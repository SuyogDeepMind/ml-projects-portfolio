{
 "cells": [
  {
   "cell_type": "code",
   "execution_count": null,
   "id": "d005c734-57e5-4407-95e0-32f475fce9f1",
   "metadata": {},
   "outputs": [],
   "source": [
    "# Use Case for Clustering: Group countries with similar construction permit trends, which can help understand regional or economic similarities.\n",
    "# Index measuring the regulatory performance of obtaining Construction Permits"
   ]
  },
  {
   "cell_type": "markdown",
   "id": "a0141bd1",
   "metadata": {},
   "source": [
    "### Insight: Importing necessary libraries to handle data manipulation, visualization, and clustering."
   ]
  },
  {
   "cell_type": "code",
   "execution_count": 1,
   "id": "2458d1b4-e73f-4bfe-b436-ee5340f9c664",
   "metadata": {},
   "outputs": [],
   "source": [
    "import numpy as np\n",
    "import pandas as pd\n",
    "import seaborn as sns\n",
    "import matplotlib.pyplot as plt"
   ]
  },
  {
   "cell_type": "markdown",
   "id": "ebd661e1",
   "metadata": {},
   "source": [
    "### Insight: Loading the dataset. It's important to understand the structure of the data before applying clustering."
   ]
  },
  {
   "cell_type": "code",
   "execution_count": 3,
   "id": "db635467-35b5-4d26-afe3-0fc54d352bdd",
   "metadata": {},
   "outputs": [],
   "source": [
    "df=pd.read_csv(\"main_data.csv\")"
   ]
  },
  {
   "cell_type": "code",
   "execution_count": 5,
   "id": "61c206f2-ea6f-46cf-9595-9497323d53e3",
   "metadata": {},
   "outputs": [
    {
     "data": {
      "text/html": [
       "<div>\n",
       "<style scoped>\n",
       "    .dataframe tbody tr th:only-of-type {\n",
       "        vertical-align: middle;\n",
       "    }\n",
       "\n",
       "    .dataframe tbody tr th {\n",
       "        vertical-align: top;\n",
       "    }\n",
       "\n",
       "    .dataframe thead th {\n",
       "        text-align: right;\n",
       "    }\n",
       "</style>\n",
       "<table border=\"1\" class=\"dataframe\">\n",
       "  <thead>\n",
       "    <tr style=\"text-align: right;\">\n",
       "      <th></th>\n",
       "      <th>Unnamed: 0</th>\n",
       "      <th>country</th>\n",
       "      <th>fy2017, Dealing with construction permits</th>\n",
       "      <th>fy2019, Dealing with construction permits</th>\n",
       "      <th>fy2018, Dealing with construction permits</th>\n",
       "    </tr>\n",
       "  </thead>\n",
       "  <tbody>\n",
       "    <tr>\n",
       "      <th>0</th>\n",
       "      <td>0</td>\n",
       "      <td>AFG</td>\n",
       "      <td>33.70269</td>\n",
       "      <td>34.53602</td>\n",
       "      <td>34.53602</td>\n",
       "    </tr>\n",
       "    <tr>\n",
       "      <th>1</th>\n",
       "      <td>1</td>\n",
       "      <td>AGO</td>\n",
       "      <td>64.57157</td>\n",
       "      <td>65.32993</td>\n",
       "      <td>64.99177</td>\n",
       "    </tr>\n",
       "    <tr>\n",
       "      <th>2</th>\n",
       "      <td>2</td>\n",
       "      <td>ALB</td>\n",
       "      <td>52.60171</td>\n",
       "      <td>52.67715</td>\n",
       "      <td>52.64734</td>\n",
       "    </tr>\n",
       "    <tr>\n",
       "      <th>3</th>\n",
       "      <td>3</td>\n",
       "      <td>ARE</td>\n",
       "      <td>86.51006</td>\n",
       "      <td>89.75407</td>\n",
       "      <td>86.52729</td>\n",
       "    </tr>\n",
       "    <tr>\n",
       "      <th>4</th>\n",
       "      <td>4</td>\n",
       "      <td>ARG</td>\n",
       "      <td>48.96341</td>\n",
       "      <td>56.44015</td>\n",
       "      <td>49.26822</td>\n",
       "    </tr>\n",
       "    <tr>\n",
       "      <th>...</th>\n",
       "      <td>...</td>\n",
       "      <td>...</td>\n",
       "      <td>...</td>\n",
       "      <td>...</td>\n",
       "      <td>...</td>\n",
       "    </tr>\n",
       "    <tr>\n",
       "      <th>186</th>\n",
       "      <td>186</td>\n",
       "      <td>XKX</td>\n",
       "      <td>50.29844</td>\n",
       "      <td>55.28702</td>\n",
       "      <td>52.87432</td>\n",
       "    </tr>\n",
       "    <tr>\n",
       "      <th>187</th>\n",
       "      <td>187</td>\n",
       "      <td>YEM</td>\n",
       "      <td>0.00000</td>\n",
       "      <td>0.00000</td>\n",
       "      <td>0.00000</td>\n",
       "    </tr>\n",
       "    <tr>\n",
       "      <th>188</th>\n",
       "      <td>188</td>\n",
       "      <td>ZAF</td>\n",
       "      <td>68.26741</td>\n",
       "      <td>68.32331</td>\n",
       "      <td>68.24925</td>\n",
       "    </tr>\n",
       "    <tr>\n",
       "      <th>189</th>\n",
       "      <td>189</td>\n",
       "      <td>ZMB</td>\n",
       "      <td>71.10859</td>\n",
       "      <td>72.09460</td>\n",
       "      <td>71.72488</td>\n",
       "    </tr>\n",
       "    <tr>\n",
       "      <th>190</th>\n",
       "      <td>190</td>\n",
       "      <td>ZWE</td>\n",
       "      <td>46.39289</td>\n",
       "      <td>60.00173</td>\n",
       "      <td>48.55427</td>\n",
       "    </tr>\n",
       "  </tbody>\n",
       "</table>\n",
       "<p>191 rows × 5 columns</p>\n",
       "</div>"
      ],
      "text/plain": [
       "     Unnamed: 0 country  fy2017, Dealing with construction permits  \\\n",
       "0             0     AFG                                   33.70269   \n",
       "1             1     AGO                                   64.57157   \n",
       "2             2     ALB                                   52.60171   \n",
       "3             3     ARE                                   86.51006   \n",
       "4             4     ARG                                   48.96341   \n",
       "..          ...     ...                                        ...   \n",
       "186         186     XKX                                   50.29844   \n",
       "187         187     YEM                                    0.00000   \n",
       "188         188     ZAF                                   68.26741   \n",
       "189         189     ZMB                                   71.10859   \n",
       "190         190     ZWE                                   46.39289   \n",
       "\n",
       "     fy2019, Dealing with construction permits  \\\n",
       "0                                     34.53602   \n",
       "1                                     65.32993   \n",
       "2                                     52.67715   \n",
       "3                                     89.75407   \n",
       "4                                     56.44015   \n",
       "..                                         ...   \n",
       "186                                   55.28702   \n",
       "187                                    0.00000   \n",
       "188                                   68.32331   \n",
       "189                                   72.09460   \n",
       "190                                   60.00173   \n",
       "\n",
       "     fy2018, Dealing with construction permits  \n",
       "0                                     34.53602  \n",
       "1                                     64.99177  \n",
       "2                                     52.64734  \n",
       "3                                     86.52729  \n",
       "4                                     49.26822  \n",
       "..                                         ...  \n",
       "186                                   52.87432  \n",
       "187                                    0.00000  \n",
       "188                                   68.24925  \n",
       "189                                   71.72488  \n",
       "190                                   48.55427  \n",
       "\n",
       "[191 rows x 5 columns]"
      ]
     },
     "execution_count": 5,
     "metadata": {},
     "output_type": "execute_result"
    }
   ],
   "source": [
    "df"
   ]
  },
  {
   "cell_type": "code",
   "execution_count": 7,
   "id": "11ea76fc-6c1e-47e3-8eaa-5838878f0c44",
   "metadata": {},
   "outputs": [
    {
     "name": "stdout",
     "output_type": "stream",
     "text": [
      "<class 'pandas.core.frame.DataFrame'>\n",
      "RangeIndex: 191 entries, 0 to 190\n",
      "Data columns (total 5 columns):\n",
      " #   Column                                     Non-Null Count  Dtype  \n",
      "---  ------                                     --------------  -----  \n",
      " 0   Unnamed: 0                                 191 non-null    int64  \n",
      " 1   country                                    191 non-null    object \n",
      " 2   fy2017, Dealing with construction permits  191 non-null    float64\n",
      " 3   fy2019, Dealing with construction permits  191 non-null    float64\n",
      " 4   fy2018, Dealing with construction permits  191 non-null    float64\n",
      "dtypes: float64(3), int64(1), object(1)\n",
      "memory usage: 7.6+ KB\n"
     ]
    }
   ],
   "source": [
    "df.info()"
   ]
  },
  {
   "cell_type": "code",
   "execution_count": 9,
   "id": "9c43fa04-51b6-489d-8601-497da16fbf73",
   "metadata": {},
   "outputs": [
    {
     "data": {
      "text/html": [
       "<div>\n",
       "<style scoped>\n",
       "    .dataframe tbody tr th:only-of-type {\n",
       "        vertical-align: middle;\n",
       "    }\n",
       "\n",
       "    .dataframe tbody tr th {\n",
       "        vertical-align: top;\n",
       "    }\n",
       "\n",
       "    .dataframe thead th {\n",
       "        text-align: right;\n",
       "    }\n",
       "</style>\n",
       "<table border=\"1\" class=\"dataframe\">\n",
       "  <thead>\n",
       "    <tr style=\"text-align: right;\">\n",
       "      <th></th>\n",
       "      <th>Unnamed: 0</th>\n",
       "      <th>country</th>\n",
       "      <th>fy2017, Dealing with construction permits</th>\n",
       "      <th>fy2019, Dealing with construction permits</th>\n",
       "      <th>fy2018, Dealing with construction permits</th>\n",
       "    </tr>\n",
       "  </thead>\n",
       "  <tbody>\n",
       "    <tr>\n",
       "      <th>0</th>\n",
       "      <td>0</td>\n",
       "      <td>AFG</td>\n",
       "      <td>33.70269</td>\n",
       "      <td>34.53602</td>\n",
       "      <td>34.53602</td>\n",
       "    </tr>\n",
       "    <tr>\n",
       "      <th>1</th>\n",
       "      <td>1</td>\n",
       "      <td>AGO</td>\n",
       "      <td>64.57157</td>\n",
       "      <td>65.32993</td>\n",
       "      <td>64.99177</td>\n",
       "    </tr>\n",
       "    <tr>\n",
       "      <th>2</th>\n",
       "      <td>2</td>\n",
       "      <td>ALB</td>\n",
       "      <td>52.60171</td>\n",
       "      <td>52.67715</td>\n",
       "      <td>52.64734</td>\n",
       "    </tr>\n",
       "    <tr>\n",
       "      <th>3</th>\n",
       "      <td>3</td>\n",
       "      <td>ARE</td>\n",
       "      <td>86.51006</td>\n",
       "      <td>89.75407</td>\n",
       "      <td>86.52729</td>\n",
       "    </tr>\n",
       "    <tr>\n",
       "      <th>4</th>\n",
       "      <td>4</td>\n",
       "      <td>ARG</td>\n",
       "      <td>48.96341</td>\n",
       "      <td>56.44015</td>\n",
       "      <td>49.26822</td>\n",
       "    </tr>\n",
       "  </tbody>\n",
       "</table>\n",
       "</div>"
      ],
      "text/plain": [
       "   Unnamed: 0 country  fy2017, Dealing with construction permits  \\\n",
       "0           0     AFG                                   33.70269   \n",
       "1           1     AGO                                   64.57157   \n",
       "2           2     ALB                                   52.60171   \n",
       "3           3     ARE                                   86.51006   \n",
       "4           4     ARG                                   48.96341   \n",
       "\n",
       "   fy2019, Dealing with construction permits  \\\n",
       "0                                   34.53602   \n",
       "1                                   65.32993   \n",
       "2                                   52.67715   \n",
       "3                                   89.75407   \n",
       "4                                   56.44015   \n",
       "\n",
       "   fy2018, Dealing with construction permits  \n",
       "0                                   34.53602  \n",
       "1                                   64.99177  \n",
       "2                                   52.64734  \n",
       "3                                   86.52729  \n",
       "4                                   49.26822  "
      ]
     },
     "execution_count": 9,
     "metadata": {},
     "output_type": "execute_result"
    }
   ],
   "source": [
    "df.head()"
   ]
  },
  {
   "cell_type": "code",
   "execution_count": 11,
   "id": "b7c5e767-d0f8-4202-9611-8f6f74c60c2e",
   "metadata": {},
   "outputs": [
    {
     "data": {
      "text/html": [
       "<div>\n",
       "<style scoped>\n",
       "    .dataframe tbody tr th:only-of-type {\n",
       "        vertical-align: middle;\n",
       "    }\n",
       "\n",
       "    .dataframe tbody tr th {\n",
       "        vertical-align: top;\n",
       "    }\n",
       "\n",
       "    .dataframe thead th {\n",
       "        text-align: right;\n",
       "    }\n",
       "</style>\n",
       "<table border=\"1\" class=\"dataframe\">\n",
       "  <thead>\n",
       "    <tr style=\"text-align: right;\">\n",
       "      <th></th>\n",
       "      <th>Unnamed: 0</th>\n",
       "      <th>country</th>\n",
       "      <th>fy2017, Dealing with construction permits</th>\n",
       "      <th>fy2019, Dealing with construction permits</th>\n",
       "      <th>fy2018, Dealing with construction permits</th>\n",
       "    </tr>\n",
       "  </thead>\n",
       "  <tbody>\n",
       "    <tr>\n",
       "      <th>186</th>\n",
       "      <td>186</td>\n",
       "      <td>XKX</td>\n",
       "      <td>50.29844</td>\n",
       "      <td>55.28702</td>\n",
       "      <td>52.87432</td>\n",
       "    </tr>\n",
       "    <tr>\n",
       "      <th>187</th>\n",
       "      <td>187</td>\n",
       "      <td>YEM</td>\n",
       "      <td>0.00000</td>\n",
       "      <td>0.00000</td>\n",
       "      <td>0.00000</td>\n",
       "    </tr>\n",
       "    <tr>\n",
       "      <th>188</th>\n",
       "      <td>188</td>\n",
       "      <td>ZAF</td>\n",
       "      <td>68.26741</td>\n",
       "      <td>68.32331</td>\n",
       "      <td>68.24925</td>\n",
       "    </tr>\n",
       "    <tr>\n",
       "      <th>189</th>\n",
       "      <td>189</td>\n",
       "      <td>ZMB</td>\n",
       "      <td>71.10859</td>\n",
       "      <td>72.09460</td>\n",
       "      <td>71.72488</td>\n",
       "    </tr>\n",
       "    <tr>\n",
       "      <th>190</th>\n",
       "      <td>190</td>\n",
       "      <td>ZWE</td>\n",
       "      <td>46.39289</td>\n",
       "      <td>60.00173</td>\n",
       "      <td>48.55427</td>\n",
       "    </tr>\n",
       "  </tbody>\n",
       "</table>\n",
       "</div>"
      ],
      "text/plain": [
       "     Unnamed: 0 country  fy2017, Dealing with construction permits  \\\n",
       "186         186     XKX                                   50.29844   \n",
       "187         187     YEM                                    0.00000   \n",
       "188         188     ZAF                                   68.26741   \n",
       "189         189     ZMB                                   71.10859   \n",
       "190         190     ZWE                                   46.39289   \n",
       "\n",
       "     fy2019, Dealing with construction permits  \\\n",
       "186                                   55.28702   \n",
       "187                                    0.00000   \n",
       "188                                   68.32331   \n",
       "189                                   72.09460   \n",
       "190                                   60.00173   \n",
       "\n",
       "     fy2018, Dealing with construction permits  \n",
       "186                                   52.87432  \n",
       "187                                    0.00000  \n",
       "188                                   68.24925  \n",
       "189                                   71.72488  \n",
       "190                                   48.55427  "
      ]
     },
     "execution_count": 11,
     "metadata": {},
     "output_type": "execute_result"
    }
   ],
   "source": [
    "df.tail()"
   ]
  },
  {
   "cell_type": "code",
   "execution_count": 13,
   "id": "ad108d86-96df-4112-8702-f8e9330ba73c",
   "metadata": {},
   "outputs": [],
   "source": [
    "df.drop(\"Unnamed: 0\",axis = 1,inplace = True)"
   ]
  },
  {
   "cell_type": "code",
   "execution_count": 15,
   "id": "7434b9c2-5c68-48f7-81a6-441f92a55b79",
   "metadata": {},
   "outputs": [
    {
     "data": {
      "text/html": [
       "<div>\n",
       "<style scoped>\n",
       "    .dataframe tbody tr th:only-of-type {\n",
       "        vertical-align: middle;\n",
       "    }\n",
       "\n",
       "    .dataframe tbody tr th {\n",
       "        vertical-align: top;\n",
       "    }\n",
       "\n",
       "    .dataframe thead th {\n",
       "        text-align: right;\n",
       "    }\n",
       "</style>\n",
       "<table border=\"1\" class=\"dataframe\">\n",
       "  <thead>\n",
       "    <tr style=\"text-align: right;\">\n",
       "      <th></th>\n",
       "      <th>country</th>\n",
       "      <th>fy2017, Dealing with construction permits</th>\n",
       "      <th>fy2019, Dealing with construction permits</th>\n",
       "      <th>fy2018, Dealing with construction permits</th>\n",
       "    </tr>\n",
       "  </thead>\n",
       "  <tbody>\n",
       "    <tr>\n",
       "      <th>0</th>\n",
       "      <td>AFG</td>\n",
       "      <td>33.70269</td>\n",
       "      <td>34.53602</td>\n",
       "      <td>34.53602</td>\n",
       "    </tr>\n",
       "    <tr>\n",
       "      <th>1</th>\n",
       "      <td>AGO</td>\n",
       "      <td>64.57157</td>\n",
       "      <td>65.32993</td>\n",
       "      <td>64.99177</td>\n",
       "    </tr>\n",
       "    <tr>\n",
       "      <th>2</th>\n",
       "      <td>ALB</td>\n",
       "      <td>52.60171</td>\n",
       "      <td>52.67715</td>\n",
       "      <td>52.64734</td>\n",
       "    </tr>\n",
       "    <tr>\n",
       "      <th>3</th>\n",
       "      <td>ARE</td>\n",
       "      <td>86.51006</td>\n",
       "      <td>89.75407</td>\n",
       "      <td>86.52729</td>\n",
       "    </tr>\n",
       "    <tr>\n",
       "      <th>4</th>\n",
       "      <td>ARG</td>\n",
       "      <td>48.96341</td>\n",
       "      <td>56.44015</td>\n",
       "      <td>49.26822</td>\n",
       "    </tr>\n",
       "  </tbody>\n",
       "</table>\n",
       "</div>"
      ],
      "text/plain": [
       "  country  fy2017, Dealing with construction permits  \\\n",
       "0     AFG                                   33.70269   \n",
       "1     AGO                                   64.57157   \n",
       "2     ALB                                   52.60171   \n",
       "3     ARE                                   86.51006   \n",
       "4     ARG                                   48.96341   \n",
       "\n",
       "   fy2019, Dealing with construction permits  \\\n",
       "0                                   34.53602   \n",
       "1                                   65.32993   \n",
       "2                                   52.67715   \n",
       "3                                   89.75407   \n",
       "4                                   56.44015   \n",
       "\n",
       "   fy2018, Dealing with construction permits  \n",
       "0                                   34.53602  \n",
       "1                                   64.99177  \n",
       "2                                   52.64734  \n",
       "3                                   86.52729  \n",
       "4                                   49.26822  "
      ]
     },
     "execution_count": 15,
     "metadata": {},
     "output_type": "execute_result"
    }
   ],
   "source": [
    "df.head()"
   ]
  },
  {
   "cell_type": "code",
   "execution_count": 17,
   "id": "b2848561-be66-4aab-98e9-19948e0263bf",
   "metadata": {},
   "outputs": [
    {
     "data": {
      "image/png": "[encoded data removed]",
      "text/plain": [
       "<Figure size 2000x2500 with 3 Axes>"
      ]
     },
     "metadata": {},
     "output_type": "display_data"
    }
   ],
   "source": [
    "figure=plt.figure(figsize=(20,25))\n",
    "for i in range(1,4):\n",
    "    plt.subplot(3,1,i)\n",
    "    sns.histplot(df.iloc[:,i],kde=True)"
   ]
  },
  {
   "cell_type": "code",
   "execution_count": 19,
   "id": "6635251e-d3a0-49e3-afe1-aff977f40d8c",
   "metadata": {},
   "outputs": [
    {
     "data": {
      "text/plain": [
       "<Axes: xlabel='fy2017, Dealing with construction permits'>"
      ]
     },
     "execution_count": 19,
     "metadata": {},
     "output_type": "execute_result"
    },
    {
     "data": {
      "image/png": "[encoded data removed]",
      "text/plain": [
       "<Figure size 640x480 with 1 Axes>"
      ]
     },
     "metadata": {},
     "output_type": "display_data"
    }
   ],
   "source": [
    "sns.boxplot(x = \"fy2017, Dealing with construction permits\",data = df)"
   ]
  },
  {
   "cell_type": "code",
   "execution_count": 21,
   "id": "7829b798-2cba-4e4a-9fd0-354d8d6acb15",
   "metadata": {},
   "outputs": [
    {
     "data": {
      "text/plain": [
       "<Axes: xlabel='fy2019, Dealing with construction permits'>"
      ]
     },
     "execution_count": 21,
     "metadata": {},
     "output_type": "execute_result"
    },
    {
     "data": {
      "image/png": "[encoded data removed]",
      "text/plain": [
       "<Figure size 640x480 with 1 Axes>"
      ]
     },
     "metadata": {},
     "output_type": "display_data"
    }
   ],
   "source": [
    "sns.boxplot(x=\"fy2019, Dealing with construction permits\",data = df)"
   ]
  },
  {
   "cell_type": "code",
   "execution_count": 23,
   "id": "935cdb3a-a5b9-4997-917b-c0aef56bd3d8",
   "metadata": {},
   "outputs": [
    {
     "data": {
      "text/plain": [
       "<Axes: xlabel='fy2018, Dealing with construction permits'>"
      ]
     },
     "execution_count": 23,
     "metadata": {},
     "output_type": "execute_result"
    },
    {
     "data": {
      "image/png": "[encoded data removed]",
      "text/plain": [
       "<Figure size 640x480 with 1 Axes>"
      ]
     },
     "metadata": {},
     "output_type": "display_data"
    }
   ],
   "source": [
    "sns.boxplot(x=\"fy2018, Dealing with construction permits\",data = df)"
   ]
  },
  {
   "cell_type": "code",
   "execution_count": null,
   "id": "520315dd-cbb1-478a-9b8c-d933788b801e",
   "metadata": {},
   "outputs": [],
   "source": [
    "# Numerical data for Clustering"
   ]
  },
  {
   "cell_type": "code",
   "execution_count": 25,
   "id": "be6af3cf-1489-46d6-8dfb-409cb3cc6fb7",
   "metadata": {},
   "outputs": [],
   "source": [
    "# Set colours to the clusters to differentiate(Not required in main impelemntation)\n",
    "color_scheme = np.array(['red','blue','green','yellow','pink','cyan'])"
   ]
  },
  {
   "cell_type": "code",
   "execution_count": 27,
   "id": "f494372b-05ab-40d2-ba40-33fd61e5ccf5",
   "metadata": {},
   "outputs": [],
   "source": [
    "df.rename(columns = {\"fy2017, Dealing with construction permits\":\"fy2017\",\n",
    "                     \"fy2019, Dealing with construction permits\":\"fy2019\",\n",
    "                     \"fy2018, Dealing with construction permits\":\"fy2018\"},\n",
    "          inplace = True)"
   ]
  },
  {
   "cell_type": "code",
   "execution_count": null,
   "id": "4d7704c2",
   "metadata": {},
   "outputs": [],
   "source": [
    "# Calculating IQR to handle outliers "
   ]
  },
  {
   "cell_type": "code",
   "execution_count": 29,
   "id": "d457d0b3-7d6d-4b88-87f0-182944eb0aea",
   "metadata": {},
   "outputs": [
    {
     "name": "stdout",
     "output_type": "stream",
     "text": [
      "Lower quantile  56.300934999999996\n",
      "Upper quantile  73.40780000000001\n"
     ]
    }
   ],
   "source": [
    "Q1 = df['fy2017'].quantile(0.25)\n",
    "print(\"Lower quantile \",Q1)\n",
    "Q3 = df['fy2017'].quantile(0.75)\n",
    "print(\"Upper quantile \",Q3)"
   ]
  },
  {
   "cell_type": "code",
   "execution_count": 31,
   "id": "ee805d90-9c4d-4239-b5b5-01979304963f",
   "metadata": {},
   "outputs": [
    {
     "name": "stdout",
     "output_type": "stream",
     "text": [
      "17.106865000000013\n"
     ]
    }
   ],
   "source": [
    "IQR1 = Q3-Q1\n",
    "print(IQR1)"
   ]
  },
  {
   "cell_type": "code",
   "execution_count": 33,
   "id": "9b662600-fa46-491d-9633-2c9b2993c55a",
   "metadata": {},
   "outputs": [
    {
     "name": "stdout",
     "output_type": "stream",
     "text": [
      "Lower limit:  30.640637499999976\n",
      "Upper limit:  99.06809750000002\n"
     ]
    }
   ],
   "source": [
    "lower_limit1=Q1-1.5*IQR1\n",
    "print('Lower limit: ',lower_limit1)\n",
    "upper_limit1=Q3+1.5*IQR1\n",
    "print('Upper limit: ',upper_limit1)"
   ]
  },
  {
   "cell_type": "code",
   "execution_count": 35,
   "id": "f1c21d4c-ba25-4958-a3ff-830ecf6a3172",
   "metadata": {},
   "outputs": [
    {
     "data": {
      "text/html": [
       "<div>\n",
       "<style scoped>\n",
       "    .dataframe tbody tr th:only-of-type {\n",
       "        vertical-align: middle;\n",
       "    }\n",
       "\n",
       "    .dataframe tbody tr th {\n",
       "        vertical-align: top;\n",
       "    }\n",
       "\n",
       "    .dataframe thead th {\n",
       "        text-align: right;\n",
       "    }\n",
       "</style>\n",
       "<table border=\"1\" class=\"dataframe\">\n",
       "  <thead>\n",
       "    <tr style=\"text-align: right;\">\n",
       "      <th></th>\n",
       "      <th>country</th>\n",
       "      <th>fy2017</th>\n",
       "      <th>fy2019</th>\n",
       "      <th>fy2018</th>\n",
       "    </tr>\n",
       "  </thead>\n",
       "  <tbody>\n",
       "    <tr>\n",
       "      <th>50</th>\n",
       "      <td>ERI</td>\n",
       "      <td>0.00000</td>\n",
       "      <td>0.00000</td>\n",
       "      <td>0.00000</td>\n",
       "    </tr>\n",
       "    <tr>\n",
       "      <th>96</th>\n",
       "      <td>LBR</td>\n",
       "      <td>28.93852</td>\n",
       "      <td>28.93852</td>\n",
       "      <td>28.93852</td>\n",
       "    </tr>\n",
       "    <tr>\n",
       "      <th>97</th>\n",
       "      <td>LBY</td>\n",
       "      <td>0.00000</td>\n",
       "      <td>0.00000</td>\n",
       "      <td>0.00000</td>\n",
       "    </tr>\n",
       "    <tr>\n",
       "      <th>99</th>\n",
       "      <td>LIE</td>\n",
       "      <td>0.00000</td>\n",
       "      <td>83.51370</td>\n",
       "      <td>83.52035</td>\n",
       "    </tr>\n",
       "    <tr>\n",
       "      <th>154</th>\n",
       "      <td>SOM</td>\n",
       "      <td>0.00000</td>\n",
       "      <td>0.00000</td>\n",
       "      <td>0.00000</td>\n",
       "    </tr>\n",
       "    <tr>\n",
       "      <th>164</th>\n",
       "      <td>SYR</td>\n",
       "      <td>0.00000</td>\n",
       "      <td>0.00000</td>\n",
       "      <td>0.00000</td>\n",
       "    </tr>\n",
       "    <tr>\n",
       "      <th>187</th>\n",
       "      <td>YEM</td>\n",
       "      <td>0.00000</td>\n",
       "      <td>0.00000</td>\n",
       "      <td>0.00000</td>\n",
       "    </tr>\n",
       "  </tbody>\n",
       "</table>\n",
       "</div>"
      ],
      "text/plain": [
       "    country    fy2017    fy2019    fy2018\n",
       "50      ERI   0.00000   0.00000   0.00000\n",
       "96      LBR  28.93852  28.93852  28.93852\n",
       "97      LBY   0.00000   0.00000   0.00000\n",
       "99      LIE   0.00000  83.51370  83.52035\n",
       "154     SOM   0.00000   0.00000   0.00000\n",
       "164     SYR   0.00000   0.00000   0.00000\n",
       "187     YEM   0.00000   0.00000   0.00000"
      ]
     },
     "execution_count": 35,
     "metadata": {},
     "output_type": "execute_result"
    }
   ],
   "source": [
    "df.loc[df['fy2017']<lower_limit1]"
   ]
  },
  {
   "cell_type": "code",
   "execution_count": 37,
   "id": "2e884921-ed9a-42a0-a583-cc6cde39c5ee",
   "metadata": {},
   "outputs": [
    {
     "data": {
      "text/html": [
       "<div>\n",
       "<style scoped>\n",
       "    .dataframe tbody tr th:only-of-type {\n",
       "        vertical-align: middle;\n",
       "    }\n",
       "\n",
       "    .dataframe tbody tr th {\n",
       "        vertical-align: top;\n",
       "    }\n",
       "\n",
       "    .dataframe thead th {\n",
       "        text-align: right;\n",
       "    }\n",
       "</style>\n",
       "<table border=\"1\" class=\"dataframe\">\n",
       "  <thead>\n",
       "    <tr style=\"text-align: right;\">\n",
       "      <th></th>\n",
       "      <th>country</th>\n",
       "      <th>fy2017</th>\n",
       "      <th>fy2019</th>\n",
       "      <th>fy2018</th>\n",
       "    </tr>\n",
       "  </thead>\n",
       "  <tbody>\n",
       "  </tbody>\n",
       "</table>\n",
       "</div>"
      ],
      "text/plain": [
       "Empty DataFrame\n",
       "Columns: [country, fy2017, fy2019, fy2018]\n",
       "Index: []"
      ]
     },
     "execution_count": 37,
     "metadata": {},
     "output_type": "execute_result"
    }
   ],
   "source": [
    "df.loc[df['fy2017']>upper_limit1]"
   ]
  },
  {
   "cell_type": "code",
   "execution_count": 39,
   "id": "ce4c9a06-c8be-49ca-8d75-bd7ea82bc110",
   "metadata": {},
   "outputs": [
    {
     "data": {
      "text/plain": [
       "191"
      ]
     },
     "execution_count": 39,
     "metadata": {},
     "output_type": "execute_result"
    }
   ],
   "source": [
    "len(df)"
   ]
  },
  {
   "cell_type": "code",
   "execution_count": 41,
   "id": "10de1c8e-96d1-4900-ac87-0bd79423cc62",
   "metadata": {},
   "outputs": [
    {
     "data": {
      "text/plain": [
       "3.664921465968586"
      ]
     },
     "execution_count": 41,
     "metadata": {},
     "output_type": "execute_result"
    }
   ],
   "source": [
    "len(df.loc[df['fy2017']<lower_limit1]) / len(df) *100"
   ]
  },
  {
   "cell_type": "code",
   "execution_count": 43,
   "id": "2f860eac-e44c-4727-9881-f6f525482ca9",
   "metadata": {},
   "outputs": [],
   "source": [
    "df.loc[df['fy2017']<lower_limit1,'fy2017'] = df['fy2017'].median()"
   ]
  },
  {
   "cell_type": "code",
   "execution_count": 45,
   "id": "f4b50455-667c-4f1b-9919-c1596c980255",
   "metadata": {},
   "outputs": [
    {
     "data": {
      "text/plain": [
       "<Axes: xlabel='fy2017'>"
      ]
     },
     "execution_count": 45,
     "metadata": {},
     "output_type": "execute_result"
    },
    {
     "data": {
      "image/png": "[encoded data removed]",
      "text/plain": [
       "<Figure size 640x480 with 1 Axes>"
      ]
     },
     "metadata": {},
     "output_type": "display_data"
    }
   ],
   "source": [
    "sns.boxplot(x = 'fy2017',data = df)"
   ]
  },
  {
   "cell_type": "code",
   "execution_count": 47,
   "id": "3f3a41b0-35aa-44de-9332-5696c893744a",
   "metadata": {},
   "outputs": [
    {
     "data": {
      "text/plain": [
       "0.0"
      ]
     },
     "execution_count": 47,
     "metadata": {},
     "output_type": "execute_result"
    }
   ],
   "source": [
    "len(df.loc[df['fy2017']<lower_limit1]) / len(df) *100"
   ]
  },
  {
   "cell_type": "code",
   "execution_count": 49,
   "id": "0e691636-16da-45a4-966c-9b6a2a40c11d",
   "metadata": {},
   "outputs": [
    {
     "name": "stdout",
     "output_type": "stream",
     "text": [
      "Lower quantile  57.710025\n",
      "Upper quantile  73.913715\n"
     ]
    }
   ],
   "source": [
    "Q1 = df['fy2018'].quantile(0.25)\n",
    "print(\"Lower quantile \",Q1)\n",
    "Q3 = df['fy2018'].quantile(0.75)\n",
    "print(\"Upper quantile \",Q3)"
   ]
  },
  {
   "cell_type": "code",
   "execution_count": 51,
   "id": "3eaefd56-bd3f-40bf-ae9c-f2253141b4d9",
   "metadata": {},
   "outputs": [
    {
     "name": "stdout",
     "output_type": "stream",
     "text": [
      "16.203689999999995\n"
     ]
    }
   ],
   "source": [
    "IQR2 = Q3-Q1\n",
    "print(IQR2)"
   ]
  },
  {
   "cell_type": "code",
   "execution_count": 53,
   "id": "dcdd20b3-e07b-4b81-9d67-825923faedad",
   "metadata": {},
   "outputs": [
    {
     "name": "stdout",
     "output_type": "stream",
     "text": [
      "Lower limit:  33.40449000000001\n",
      "Upper limit:  98.21924999999999\n"
     ]
    }
   ],
   "source": [
    "lower_limit2=Q1-1.5*IQR2\n",
    "print('Lower limit: ',lower_limit2)\n",
    "upper_limit2=Q3+1.5*IQR2\n",
    "print('Upper limit: ',upper_limit2)"
   ]
  },
  {
   "cell_type": "code",
   "execution_count": 55,
   "id": "59267b5c-d78d-4a5f-a4e6-4107d9012c37",
   "metadata": {},
   "outputs": [
    {
     "data": {
      "text/html": [
       "<div>\n",
       "<style scoped>\n",
       "    .dataframe tbody tr th:only-of-type {\n",
       "        vertical-align: middle;\n",
       "    }\n",
       "\n",
       "    .dataframe tbody tr th {\n",
       "        vertical-align: top;\n",
       "    }\n",
       "\n",
       "    .dataframe thead th {\n",
       "        text-align: right;\n",
       "    }\n",
       "</style>\n",
       "<table border=\"1\" class=\"dataframe\">\n",
       "  <thead>\n",
       "    <tr style=\"text-align: right;\">\n",
       "      <th></th>\n",
       "      <th>country</th>\n",
       "      <th>fy2017</th>\n",
       "      <th>fy2019</th>\n",
       "      <th>fy2018</th>\n",
       "    </tr>\n",
       "  </thead>\n",
       "  <tbody>\n",
       "    <tr>\n",
       "      <th>50</th>\n",
       "      <td>ERI</td>\n",
       "      <td>66.6942</td>\n",
       "      <td>0.00000</td>\n",
       "      <td>0.00000</td>\n",
       "    </tr>\n",
       "    <tr>\n",
       "      <th>96</th>\n",
       "      <td>LBR</td>\n",
       "      <td>66.6942</td>\n",
       "      <td>28.93852</td>\n",
       "      <td>28.93852</td>\n",
       "    </tr>\n",
       "    <tr>\n",
       "      <th>97</th>\n",
       "      <td>LBY</td>\n",
       "      <td>66.6942</td>\n",
       "      <td>0.00000</td>\n",
       "      <td>0.00000</td>\n",
       "    </tr>\n",
       "    <tr>\n",
       "      <th>154</th>\n",
       "      <td>SOM</td>\n",
       "      <td>66.6942</td>\n",
       "      <td>0.00000</td>\n",
       "      <td>0.00000</td>\n",
       "    </tr>\n",
       "    <tr>\n",
       "      <th>164</th>\n",
       "      <td>SYR</td>\n",
       "      <td>66.6942</td>\n",
       "      <td>0.00000</td>\n",
       "      <td>0.00000</td>\n",
       "    </tr>\n",
       "    <tr>\n",
       "      <th>187</th>\n",
       "      <td>YEM</td>\n",
       "      <td>66.6942</td>\n",
       "      <td>0.00000</td>\n",
       "      <td>0.00000</td>\n",
       "    </tr>\n",
       "  </tbody>\n",
       "</table>\n",
       "</div>"
      ],
      "text/plain": [
       "    country   fy2017    fy2019    fy2018\n",
       "50      ERI  66.6942   0.00000   0.00000\n",
       "96      LBR  66.6942  28.93852  28.93852\n",
       "97      LBY  66.6942   0.00000   0.00000\n",
       "154     SOM  66.6942   0.00000   0.00000\n",
       "164     SYR  66.6942   0.00000   0.00000\n",
       "187     YEM  66.6942   0.00000   0.00000"
      ]
     },
     "execution_count": 55,
     "metadata": {},
     "output_type": "execute_result"
    }
   ],
   "source": [
    "df.loc[df['fy2018']<lower_limit2]"
   ]
  },
  {
   "cell_type": "code",
   "execution_count": 57,
   "id": "9d01fb6e-2fca-484f-add0-93bfad0b3a76",
   "metadata": {},
   "outputs": [
    {
     "data": {
      "text/html": [
       "<div>\n",
       "<style scoped>\n",
       "    .dataframe tbody tr th:only-of-type {\n",
       "        vertical-align: middle;\n",
       "    }\n",
       "\n",
       "    .dataframe tbody tr th {\n",
       "        vertical-align: top;\n",
       "    }\n",
       "\n",
       "    .dataframe thead th {\n",
       "        text-align: right;\n",
       "    }\n",
       "</style>\n",
       "<table border=\"1\" class=\"dataframe\">\n",
       "  <thead>\n",
       "    <tr style=\"text-align: right;\">\n",
       "      <th></th>\n",
       "      <th>country</th>\n",
       "      <th>fy2017</th>\n",
       "      <th>fy2019</th>\n",
       "      <th>fy2018</th>\n",
       "    </tr>\n",
       "  </thead>\n",
       "  <tbody>\n",
       "  </tbody>\n",
       "</table>\n",
       "</div>"
      ],
      "text/plain": [
       "Empty DataFrame\n",
       "Columns: [country, fy2017, fy2019, fy2018]\n",
       "Index: []"
      ]
     },
     "execution_count": 57,
     "metadata": {},
     "output_type": "execute_result"
    }
   ],
   "source": [
    "df.loc[df['fy2018']>upper_limit2]"
   ]
  },
  {
   "cell_type": "code",
   "execution_count": 59,
   "id": "69860342-c2cf-47c2-8a69-915e0dcb69c8",
   "metadata": {},
   "outputs": [
    {
     "data": {
      "text/plain": [
       "3.1413612565445024"
      ]
     },
     "execution_count": 59,
     "metadata": {},
     "output_type": "execute_result"
    }
   ],
   "source": [
    "len(df.loc[df['fy2018']<lower_limit2]) / len(df) *100"
   ]
  },
  {
   "cell_type": "code",
   "execution_count": 61,
   "id": "5a19b0cc-48b6-43eb-ab4e-2922df227115",
   "metadata": {},
   "outputs": [],
   "source": [
    "df.loc[df['fy2018']<lower_limit2,'fy2018'] = df['fy2018'].median()"
   ]
  },
  {
   "cell_type": "code",
   "execution_count": 63,
   "id": "eb43f6d3-9930-4bcd-a3b7-5c8b068eade1",
   "metadata": {},
   "outputs": [
    {
     "data": {
      "text/plain": [
       "<Axes: xlabel='fy2018'>"
      ]
     },
     "execution_count": 63,
     "metadata": {},
     "output_type": "execute_result"
    },
    {
     "data": {
      "image/png": "[encoded data removed]",
      "text/plain": [
       "<Figure size 640x480 with 1 Axes>"
      ]
     },
     "metadata": {},
     "output_type": "display_data"
    }
   ],
   "source": [
    "sns.boxplot(x = 'fy2018',data = df)"
   ]
  },
  {
   "cell_type": "code",
   "execution_count": 65,
   "id": "4b101513-b31e-4d95-a292-b45e12306502",
   "metadata": {},
   "outputs": [
    {
     "data": {
      "text/plain": [
       "0.0"
      ]
     },
     "execution_count": 65,
     "metadata": {},
     "output_type": "execute_result"
    }
   ],
   "source": [
    "len(df.loc[df['fy2018']<lower_limit2]) / len(df) *100"
   ]
  },
  {
   "cell_type": "code",
   "execution_count": 67,
   "id": "93eb8f91-0b3c-4dd3-a744-03797e8ffe11",
   "metadata": {},
   "outputs": [
    {
     "name": "stdout",
     "output_type": "stream",
     "text": [
      "Lower quantile  59.640150000000006\n",
      "Upper quantile  75.18295499999999\n"
     ]
    }
   ],
   "source": [
    "Q1 = df['fy2019'].quantile(0.25)\n",
    "print(\"Lower quantile \",Q1)\n",
    "Q3 = df['fy2019'].quantile(0.75)\n",
    "print(\"Upper quantile \",Q3)"
   ]
  },
  {
   "cell_type": "code",
   "execution_count": 69,
   "id": "62586846-0e86-43af-94b1-ed0614c19a6d",
   "metadata": {},
   "outputs": [
    {
     "name": "stdout",
     "output_type": "stream",
     "text": [
      "15.542804999999987\n"
     ]
    }
   ],
   "source": [
    "IQR3 = Q3-Q1\n",
    "print(IQR3)"
   ]
  },
  {
   "cell_type": "code",
   "execution_count": 75,
   "id": "bd7356ad-ac95-4a7c-b1ea-7eb953318a08",
   "metadata": {},
   "outputs": [
    {
     "name": "stdout",
     "output_type": "stream",
     "text": [
      "Lower limit:  36.325942500000025\n",
      "Upper limit:  98.49716249999997\n"
     ]
    }
   ],
   "source": [
    "lower_limit3=Q1-1.5*IQR3\n",
    "print('Lower limit: ',lower_limit3)\n",
    "upper_limit3=Q3+1.5*IQR3\n",
    "print('Upper limit: ',upper_limit3)"
   ]
  },
  {
   "cell_type": "code",
   "execution_count": 77,
   "id": "aae2eaaf-7a37-4fb9-869a-372bc4f3599d",
   "metadata": {},
   "outputs": [
    {
     "data": {
      "text/html": [
       "<div>\n",
       "<style scoped>\n",
       "    .dataframe tbody tr th:only-of-type {\n",
       "        vertical-align: middle;\n",
       "    }\n",
       "\n",
       "    .dataframe tbody tr th {\n",
       "        vertical-align: top;\n",
       "    }\n",
       "\n",
       "    .dataframe thead th {\n",
       "        text-align: right;\n",
       "    }\n",
       "</style>\n",
       "<table border=\"1\" class=\"dataframe\">\n",
       "  <thead>\n",
       "    <tr style=\"text-align: right;\">\n",
       "      <th></th>\n",
       "      <th>country</th>\n",
       "      <th>fy2017</th>\n",
       "      <th>fy2019</th>\n",
       "      <th>fy2018</th>\n",
       "    </tr>\n",
       "  </thead>\n",
       "  <tbody>\n",
       "    <tr>\n",
       "      <th>0</th>\n",
       "      <td>AFG</td>\n",
       "      <td>33.70269</td>\n",
       "      <td>34.53602</td>\n",
       "      <td>34.53602</td>\n",
       "    </tr>\n",
       "    <tr>\n",
       "      <th>27</th>\n",
       "      <td>CAF</td>\n",
       "      <td>34.09510</td>\n",
       "      <td>34.09510</td>\n",
       "      <td>34.09510</td>\n",
       "    </tr>\n",
       "    <tr>\n",
       "      <th>50</th>\n",
       "      <td>ERI</td>\n",
       "      <td>66.69420</td>\n",
       "      <td>0.00000</td>\n",
       "      <td>67.94367</td>\n",
       "    </tr>\n",
       "    <tr>\n",
       "      <th>96</th>\n",
       "      <td>LBR</td>\n",
       "      <td>66.69420</td>\n",
       "      <td>28.93852</td>\n",
       "      <td>67.94367</td>\n",
       "    </tr>\n",
       "    <tr>\n",
       "      <th>97</th>\n",
       "      <td>LBY</td>\n",
       "      <td>66.69420</td>\n",
       "      <td>0.00000</td>\n",
       "      <td>67.94367</td>\n",
       "    </tr>\n",
       "    <tr>\n",
       "      <th>107</th>\n",
       "      <td>MDG</td>\n",
       "      <td>34.22959</td>\n",
       "      <td>35.89625</td>\n",
       "      <td>35.89625</td>\n",
       "    </tr>\n",
       "    <tr>\n",
       "      <th>154</th>\n",
       "      <td>SOM</td>\n",
       "      <td>66.69420</td>\n",
       "      <td>0.00000</td>\n",
       "      <td>67.94367</td>\n",
       "    </tr>\n",
       "    <tr>\n",
       "      <th>164</th>\n",
       "      <td>SYR</td>\n",
       "      <td>66.69420</td>\n",
       "      <td>0.00000</td>\n",
       "      <td>67.94367</td>\n",
       "    </tr>\n",
       "    <tr>\n",
       "      <th>187</th>\n",
       "      <td>YEM</td>\n",
       "      <td>66.69420</td>\n",
       "      <td>0.00000</td>\n",
       "      <td>67.94367</td>\n",
       "    </tr>\n",
       "  </tbody>\n",
       "</table>\n",
       "</div>"
      ],
      "text/plain": [
       "    country    fy2017    fy2019    fy2018\n",
       "0       AFG  33.70269  34.53602  34.53602\n",
       "27      CAF  34.09510  34.09510  34.09510\n",
       "50      ERI  66.69420   0.00000  67.94367\n",
       "96      LBR  66.69420  28.93852  67.94367\n",
       "97      LBY  66.69420   0.00000  67.94367\n",
       "107     MDG  34.22959  35.89625  35.89625\n",
       "154     SOM  66.69420   0.00000  67.94367\n",
       "164     SYR  66.69420   0.00000  67.94367\n",
       "187     YEM  66.69420   0.00000  67.94367"
      ]
     },
     "execution_count": 77,
     "metadata": {},
     "output_type": "execute_result"
    }
   ],
   "source": [
    "df.loc[df['fy2019']<lower_limit3]"
   ]
  },
  {
   "cell_type": "code",
   "execution_count": 79,
   "id": "0dccbe1b-7280-408f-9aaa-f33e88fb19b2",
   "metadata": {},
   "outputs": [
    {
     "data": {
      "text/html": [
       "<div>\n",
       "<style scoped>\n",
       "    .dataframe tbody tr th:only-of-type {\n",
       "        vertical-align: middle;\n",
       "    }\n",
       "\n",
       "    .dataframe tbody tr th {\n",
       "        vertical-align: top;\n",
       "    }\n",
       "\n",
       "    .dataframe thead th {\n",
       "        text-align: right;\n",
       "    }\n",
       "</style>\n",
       "<table border=\"1\" class=\"dataframe\">\n",
       "  <thead>\n",
       "    <tr style=\"text-align: right;\">\n",
       "      <th></th>\n",
       "      <th>country</th>\n",
       "      <th>fy2017</th>\n",
       "      <th>fy2019</th>\n",
       "      <th>fy2018</th>\n",
       "    </tr>\n",
       "  </thead>\n",
       "  <tbody>\n",
       "  </tbody>\n",
       "</table>\n",
       "</div>"
      ],
      "text/plain": [
       "Empty DataFrame\n",
       "Columns: [country, fy2017, fy2019, fy2018]\n",
       "Index: []"
      ]
     },
     "execution_count": 79,
     "metadata": {},
     "output_type": "execute_result"
    }
   ],
   "source": [
    "df.loc[df['fy2019']>upper_limit3]"
   ]
  },
  {
   "cell_type": "code",
   "execution_count": 81,
   "id": "f6f5a564-f41b-47ed-b81e-0ee95c8ee145",
   "metadata": {},
   "outputs": [
    {
     "data": {
      "text/plain": [
       "4.712041884816754"
      ]
     },
     "execution_count": 81,
     "metadata": {},
     "output_type": "execute_result"
    }
   ],
   "source": [
    "len(df.loc[df['fy2019']<lower_limit3]) / len(df) *100"
   ]
  },
  {
   "cell_type": "code",
   "execution_count": 83,
   "id": "c1052343-1e04-4632-8be5-f720c25b2496",
   "metadata": {},
   "outputs": [],
   "source": [
    "df.loc[df['fy2019']<lower_limit1,'fy2019'] = df['fy2019'].median()"
   ]
  },
  {
   "cell_type": "code",
   "execution_count": 85,
   "id": "2edd5d1d-0b96-4c42-b216-186ff0234464",
   "metadata": {},
   "outputs": [
    {
     "data": {
      "text/plain": [
       "<Axes: xlabel='fy2019'>"
      ]
     },
     "execution_count": 85,
     "metadata": {},
     "output_type": "execute_result"
    },
    {
     "data": {
      "image/png": "[encoded data removed]",
      "text/plain": [
       "<Figure size 640x480 with 1 Axes>"
      ]
     },
     "metadata": {},
     "output_type": "display_data"
    }
   ],
   "source": [
    "sns.boxplot(x = 'fy2019',data = df)"
   ]
  },
  {
   "cell_type": "code",
   "execution_count": 87,
   "id": "9580cdad-eb28-44dc-892c-ab8ba5fcf009",
   "metadata": {},
   "outputs": [
    {
     "data": {
      "text/plain": [
       "1.5706806282722512"
      ]
     },
     "execution_count": 87,
     "metadata": {},
     "output_type": "execute_result"
    }
   ],
   "source": [
    "len(df.loc[df['fy2019']<lower_limit3]) / len(df) *100"
   ]
  },
  {
   "cell_type": "code",
   "execution_count": 89,
   "id": "c1bdce5f-56e2-4bfe-ac89-685eebbf520a",
   "metadata": {},
   "outputs": [
    {
     "data": {
      "text/html": [
       "<div>\n",
       "<style scoped>\n",
       "    .dataframe tbody tr th:only-of-type {\n",
       "        vertical-align: middle;\n",
       "    }\n",
       "\n",
       "    .dataframe tbody tr th {\n",
       "        vertical-align: top;\n",
       "    }\n",
       "\n",
       "    .dataframe thead th {\n",
       "        text-align: right;\n",
       "    }\n",
       "</style>\n",
       "<table border=\"1\" class=\"dataframe\">\n",
       "  <thead>\n",
       "    <tr style=\"text-align: right;\">\n",
       "      <th></th>\n",
       "      <th>country</th>\n",
       "      <th>fy2017</th>\n",
       "      <th>fy2019</th>\n",
       "      <th>fy2018</th>\n",
       "    </tr>\n",
       "  </thead>\n",
       "  <tbody>\n",
       "    <tr>\n",
       "      <th>0</th>\n",
       "      <td>AFG</td>\n",
       "      <td>33.70269</td>\n",
       "      <td>34.53602</td>\n",
       "      <td>34.53602</td>\n",
       "    </tr>\n",
       "    <tr>\n",
       "      <th>1</th>\n",
       "      <td>AGO</td>\n",
       "      <td>64.57157</td>\n",
       "      <td>65.32993</td>\n",
       "      <td>64.99177</td>\n",
       "    </tr>\n",
       "    <tr>\n",
       "      <th>2</th>\n",
       "      <td>ALB</td>\n",
       "      <td>52.60171</td>\n",
       "      <td>52.67715</td>\n",
       "      <td>52.64734</td>\n",
       "    </tr>\n",
       "    <tr>\n",
       "      <th>3</th>\n",
       "      <td>ARE</td>\n",
       "      <td>86.51006</td>\n",
       "      <td>89.75407</td>\n",
       "      <td>86.52729</td>\n",
       "    </tr>\n",
       "    <tr>\n",
       "      <th>4</th>\n",
       "      <td>ARG</td>\n",
       "      <td>48.96341</td>\n",
       "      <td>56.44015</td>\n",
       "      <td>49.26822</td>\n",
       "    </tr>\n",
       "  </tbody>\n",
       "</table>\n",
       "</div>"
      ],
      "text/plain": [
       "  country    fy2017    fy2019    fy2018\n",
       "0     AFG  33.70269  34.53602  34.53602\n",
       "1     AGO  64.57157  65.32993  64.99177\n",
       "2     ALB  52.60171  52.67715  52.64734\n",
       "3     ARE  86.51006  89.75407  86.52729\n",
       "4     ARG  48.96341  56.44015  49.26822"
      ]
     },
     "execution_count": 89,
     "metadata": {},
     "output_type": "execute_result"
    }
   ],
   "source": [
    "df.head()"
   ]
  },
  {
   "cell_type": "code",
   "execution_count": 91,
   "id": "7867df7b-8d8a-475c-b8fc-672f3d5a4c8e",
   "metadata": {},
   "outputs": [
    {
     "name": "stdout",
     "output_type": "stream",
     "text": [
      "<class 'pandas.core.frame.DataFrame'>\n"
     ]
    }
   ],
   "source": [
    "X = df[['fy2017','fy2019','fy2018']]\n",
    "print(type(X))"
   ]
  },
  {
   "cell_type": "markdown",
   "id": "f5a1254a",
   "metadata": {},
   "source": [
    "### Insight: Checking for missing values ensures data quality for clustering algorithms like KMeans."
   ]
  },
  {
   "cell_type": "code",
   "execution_count": 93,
   "id": "23d42dad-12b9-427f-b199-fb14ed23b553",
   "metadata": {},
   "outputs": [
    {
     "data": {
      "text/plain": [
       "fy2017    0\n",
       "fy2019    0\n",
       "fy2018    0\n",
       "dtype: int64"
      ]
     },
     "execution_count": 93,
     "metadata": {},
     "output_type": "execute_result"
    }
   ],
   "source": [
    "X.isnull().sum()"
   ]
  },
  {
   "cell_type": "code",
   "execution_count": 95,
   "id": "18c7e7b9-74e0-4a0c-91db-e5a8a982604b",
   "metadata": {},
   "outputs": [
    {
     "data": {
      "text/plain": [
       "pandas.core.frame.DataFrame"
      ]
     },
     "execution_count": 95,
     "metadata": {},
     "output_type": "execute_result"
    }
   ],
   "source": [
    "type(X)"
   ]
  },
  {
   "cell_type": "code",
   "execution_count": 97,
   "id": "980c3796-1fb0-4b2a-a152-d377b7b26487",
   "metadata": {},
   "outputs": [
    {
     "data": {
      "text/plain": [
       "(191, 3)"
      ]
     },
     "execution_count": 97,
     "metadata": {},
     "output_type": "execute_result"
    }
   ],
   "source": [
    "X.shape"
   ]
  },
  {
   "cell_type": "markdown",
   "id": "81d18e01",
   "metadata": {},
   "source": [
    "### Insight: Importing necessary libraries to handle data manipulation, visualization, and clustering."
   ]
  },
  {
   "cell_type": "code",
   "execution_count": 101,
   "id": "37f45024-4fbc-42c7-9e73-5ea5c30effc2",
   "metadata": {},
   "outputs": [
    {
     "data": {
      "image/png": "[encoded data removed]",
      "text/plain": [
       "<Figure size 640x480 with 1 Axes>"
      ]
     },
     "metadata": {},
     "output_type": "display_data"
    }
   ],
   "source": [
    "#Elbow Method\n",
    "from sklearn.cluster import KMeans\n",
    "import warnings\n",
    "warnings.filterwarnings(\"ignore\")\n",
    "wcss=[]\n",
    "for i in range (1,12):\n",
    "    kmeans=KMeans(n_clusters=i,random_state=42)\n",
    "    kmeans.fit(X)\n",
    "    wcss.append(kmeans.inertia_)\n",
    "plt.plot(range(1,12),wcss)\n",
    "plt.title('The Elbow Method')\n",
    "plt.xlabel('Number of clusters')\n",
    "plt.ylabel('WCSS')\n",
    "plt.show()"
   ]
  },
  {
   "cell_type": "code",
   "execution_count": 103,
   "id": "08b524ad-5845-4c1b-9f2d-981db4033dec",
   "metadata": {},
   "outputs": [
    {
     "data": {
      "text/plain": [
       "[74075.90604350322,\n",
       " 28379.625308448136,\n",
       " 16068.570306506434,\n",
       " 10675.166190175174,\n",
       " 7668.794712851402,\n",
       " 6235.658550464475,\n",
       " 5327.806845585255,\n",
       " 4181.551573039236,\n",
       " 3301.253200300137,\n",
       " 2933.927218968686,\n",
       " 2715.2815348975573]"
      ]
     },
     "execution_count": 103,
     "metadata": {},
     "output_type": "execute_result"
    }
   ],
   "source": [
    "wcss"
   ]
  },
  {
   "cell_type": "markdown",
   "id": "6bf36315-0718-480f-87c2-ae1b7615dcf1",
   "metadata": {},
   "source": [
    "## Model Building"
   ]
  },
  {
   "cell_type": "markdown",
   "id": "a58001fb",
   "metadata": {},
   "source": [
    "### Insight: Importing necessary libraries to handle data manipulation, visualization, and clustering."
   ]
  },
  {
   "cell_type": "code",
   "execution_count": 106,
   "id": "ef8d897f-c293-4608-8080-fed6a9863f05",
   "metadata": {},
   "outputs": [
    {
     "data": {
      "text/html": [
       "<style>#sk-container-id-1 {\n",
       "  /* Definition of color scheme common for light and dark mode */\n",
       "  --sklearn-color-text: black;\n",
       "  --sklearn-color-line: gray;\n",
       "  /* Definition of color scheme for unfitted estimators */\n",
       "  --sklearn-color-unfitted-level-0: #fff5e6;\n",
       "  --sklearn-color-unfitted-level-1: #f6e4d2;\n",
       "  --sklearn-color-unfitted-level-2: #ffe0b3;\n",
       "  --sklearn-color-unfitted-level-3: chocolate;\n",
       "  /* Definition of color scheme for fitted estimators */\n",
       "  --sklearn-color-fitted-level-0: #f0f8ff;\n",
       "  --sklearn-color-fitted-level-1: #d4ebff;\n",
       "  --sklearn-color-fitted-level-2: #b3dbfd;\n",
       "  --sklearn-color-fitted-level-3: cornflowerblue;\n",
       "\n",
       "  /* Specific color for light theme */\n",
       "  --sklearn-color-text-on-default-background: var(--sg-text-color, var(--theme-code-foreground, var(--jp-content-font-color1, black)));\n",
       "  --sklearn-color-background: var(--sg-background-color, var(--theme-background, var(--jp-layout-color0, white)));\n",
       "  --sklearn-color-border-box: var(--sg-text-color, var(--theme-code-foreground, var(--jp-content-font-color1, black)));\n",
       "  --sklearn-color-icon: #696969;\n",
       "\n",
       "  @media (prefers-color-scheme: dark) {\n",
       "    /* Redefinition of color scheme for dark theme */\n",
       "    --sklearn-color-text-on-default-background: var(--sg-text-color, var(--theme-code-foreground, var(--jp-content-font-color1, white)));\n",
       "    --sklearn-color-background: var(--sg-background-color, var(--theme-background, var(--jp-layout-color0, #111)));\n",
       "    --sklearn-color-border-box: var(--sg-text-color, var(--theme-code-foreground, var(--jp-content-font-color1, white)));\n",
       "    --sklearn-color-icon: #878787;\n",
       "  }\n",
       "}\n",
       "\n",
       "#sk-container-id-1 {\n",
       "  color: var(--sklearn-color-text);\n",
       "}\n",
       "\n",
       "#sk-container-id-1 pre {\n",
       "  padding: 0;\n",
       "}\n",
       "\n",
       "#sk-container-id-1 input.sk-hidden--visually {\n",
       "  border: 0;\n",
       "  clip: rect(1px 1px 1px 1px);\n",
       "  clip: rect(1px, 1px, 1px, 1px);\n",
       "  height: 1px;\n",
       "  margin: -1px;\n",
       "  overflow: hidden;\n",
       "  padding: 0;\n",
       "  position: absolute;\n",
       "  width: 1px;\n",
       "}\n",
       "\n",
       "#sk-container-id-1 div.sk-dashed-wrapped {\n",
       "  border: 1px dashed var(--sklearn-color-line);\n",
       "  margin: 0 0.4em 0.5em 0.4em;\n",
       "  box-sizing: border-box;\n",
       "  padding-bottom: 0.4em;\n",
       "  background-color: var(--sklearn-color-background);\n",
       "}\n",
       "\n",
       "#sk-container-id-1 div.sk-container {\n",
       "  /* jupyter's `normalize.less` sets `[hidden] { display: none; }`\n",
       "     but bootstrap.min.css set `[hidden] { display: none !important; }`\n",
       "     so we also need the `!important` here to be able to override the\n",
       "     default hidden behavior on the sphinx rendered scikit-learn.org.\n",
       "     See: https://github.com/scikit-learn/scikit-learn/issues/21755 */\n",
       "  display: inline-block !important;\n",
       "  position: relative;\n",
       "}\n",
       "\n",
       "#sk-container-id-1 div.sk-text-repr-fallback {\n",
       "  display: none;\n",
       "}\n",
       "\n",
       "div.sk-parallel-item,\n",
       "div.sk-serial,\n",
       "div.sk-item {\n",
       "  /* draw centered vertical line to link estimators */\n",
       "  background-image: linear-gradient(var(--sklearn-color-text-on-default-background), var(--sklearn-color-text-on-default-background));\n",
       "  background-size: 2px 100%;\n",
       "  background-repeat: no-repeat;\n",
       "  background-position: center center;\n",
       "}\n",
       "\n",
       "/* Parallel-specific style estimator block */\n",
       "\n",
       "#sk-container-id-1 div.sk-parallel-item::after {\n",
       "  content: \"\";\n",
       "  width: 100%;\n",
       "  border-bottom: 2px solid var(--sklearn-color-text-on-default-background);\n",
       "  flex-grow: 1;\n",
       "}\n",
       "\n",
       "#sk-container-id-1 div.sk-parallel {\n",
       "  display: flex;\n",
       "  align-items: stretch;\n",
       "  justify-content: center;\n",
       "  background-color: var(--sklearn-color-background);\n",
       "  position: relative;\n",
       "}\n",
       "\n",
       "#sk-container-id-1 div.sk-parallel-item {\n",
       "  display: flex;\n",
       "  flex-direction: column;\n",
       "}\n",
       "\n",
       "#sk-container-id-1 div.sk-parallel-item:first-child::after {\n",
       "  align-self: flex-end;\n",
       "  width: 50%;\n",
       "}\n",
       "\n",
       "#sk-container-id-1 div.sk-parallel-item:last-child::after {\n",
       "  align-self: flex-start;\n",
       "  width: 50%;\n",
       "}\n",
       "\n",
       "#sk-container-id-1 div.sk-parallel-item:only-child::after {\n",
       "  width: 0;\n",
       "}\n",
       "\n",
       "/* Serial-specific style estimator block */\n",
       "\n",
       "#sk-container-id-1 div.sk-serial {\n",
       "  display: flex;\n",
       "  flex-direction: column;\n",
       "  align-items: center;\n",
       "  background-color: var(--sklearn-color-background);\n",
       "  padding-right: 1em;\n",
       "  padding-left: 1em;\n",
       "}\n",
       "\n",
       "\n",
       "/* Toggleable style: style used for estimator/Pipeline/ColumnTransformer box that is\n",
       "clickable and can be expanded/collapsed.\n",
       "- Pipeline and ColumnTransformer use this feature and define the default style\n",
       "- Estimators will overwrite some part of the style using the `sk-estimator` class\n",
       "*/\n",
       "\n",
       "/* Pipeline and ColumnTransformer style (default) */\n",
       "\n",
       "#sk-container-id-1 div.sk-toggleable {\n",
       "  /* Default theme specific background. It is overwritten whether we have a\n",
       "  specific estimator or a Pipeline/ColumnTransformer */\n",
       "  background-color: var(--sklearn-color-background);\n",
       "}\n",
       "\n",
       "/* Toggleable label */\n",
       "#sk-container-id-1 label.sk-toggleable__label {\n",
       "  cursor: pointer;\n",
       "  display: block;\n",
       "  width: 100%;\n",
       "  margin-bottom: 0;\n",
       "  padding: 0.5em;\n",
       "  box-sizing: border-box;\n",
       "  text-align: center;\n",
       "}\n",
       "\n",
       "#sk-container-id-1 label.sk-toggleable__label-arrow:before {\n",
       "  /* Arrow on the left of the label */\n",
       "  content: \"▸\";\n",
       "  float: left;\n",
       "  margin-right: 0.25em;\n",
       "  color: var(--sklearn-color-icon);\n",
       "}\n",
       "\n",
       "#sk-container-id-1 label.sk-toggleable__label-arrow:hover:before {\n",
       "  color: var(--sklearn-color-text);\n",
       "}\n",
       "\n",
       "/* Toggleable content - dropdown */\n",
       "\n",
       "#sk-container-id-1 div.sk-toggleable__content {\n",
       "  max-height: 0;\n",
       "  max-width: 0;\n",
       "  overflow: hidden;\n",
       "  text-align: left;\n",
       "  /* unfitted */\n",
       "  background-color: var(--sklearn-color-unfitted-level-0);\n",
       "}\n",
       "\n",
       "#sk-container-id-1 div.sk-toggleable__content.fitted {\n",
       "  /* fitted */\n",
       "  background-color: var(--sklearn-color-fitted-level-0);\n",
       "}\n",
       "\n",
       "#sk-container-id-1 div.sk-toggleable__content pre {\n",
       "  margin: 0.2em;\n",
       "  border-radius: 0.25em;\n",
       "  color: var(--sklearn-color-text);\n",
       "  /* unfitted */\n",
       "  background-color: var(--sklearn-color-unfitted-level-0);\n",
       "}\n",
       "\n",
       "#sk-container-id-1 div.sk-toggleable__content.fitted pre {\n",
       "  /* unfitted */\n",
       "  background-color: var(--sklearn-color-fitted-level-0);\n",
       "}\n",
       "\n",
       "#sk-container-id-1 input.sk-toggleable__control:checked~div.sk-toggleable__content {\n",
       "  /* Expand drop-down */\n",
       "  max-height: 200px;\n",
       "  max-width: 100%;\n",
       "  overflow: auto;\n",
       "}\n",
       "\n",
       "#sk-container-id-1 input.sk-toggleable__control:checked~label.sk-toggleable__label-arrow:before {\n",
       "  content: \"▾\";\n",
       "}\n",
       "\n",
       "/* Pipeline/ColumnTransformer-specific style */\n",
       "\n",
       "#sk-container-id-1 div.sk-label input.sk-toggleable__control:checked~label.sk-toggleable__label {\n",
       "  color: var(--sklearn-color-text);\n",
       "  background-color: var(--sklearn-color-unfitted-level-2);\n",
       "}\n",
       "\n",
       "#sk-container-id-1 div.sk-label.fitted input.sk-toggleable__control:checked~label.sk-toggleable__label {\n",
       "  background-color: var(--sklearn-color-fitted-level-2);\n",
       "}\n",
       "\n",
       "/* Estimator-specific style */\n",
       "\n",
       "/* Colorize estimator box */\n",
       "#sk-container-id-1 div.sk-estimator input.sk-toggleable__control:checked~label.sk-toggleable__label {\n",
       "  /* unfitted */\n",
       "  background-color: var(--sklearn-color-unfitted-level-2);\n",
       "}\n",
       "\n",
       "#sk-container-id-1 div.sk-estimator.fitted input.sk-toggleable__control:checked~label.sk-toggleable__label {\n",
       "  /* fitted */\n",
       "  background-color: var(--sklearn-color-fitted-level-2);\n",
       "}\n",
       "\n",
       "#sk-container-id-1 div.sk-label label.sk-toggleable__label,\n",
       "#sk-container-id-1 div.sk-label label {\n",
       "  /* The background is the default theme color */\n",
       "  color: var(--sklearn-color-text-on-default-background);\n",
       "}\n",
       "\n",
       "/* On hover, darken the color of the background */\n",
       "#sk-container-id-1 div.sk-label:hover label.sk-toggleable__label {\n",
       "  color: var(--sklearn-color-text);\n",
       "  background-color: var(--sklearn-color-unfitted-level-2);\n",
       "}\n",
       "\n",
       "/* Label box, darken color on hover, fitted */\n",
       "#sk-container-id-1 div.sk-label.fitted:hover label.sk-toggleable__label.fitted {\n",
       "  color: var(--sklearn-color-text);\n",
       "  background-color: var(--sklearn-color-fitted-level-2);\n",
       "}\n",
       "\n",
       "/* Estimator label */\n",
       "\n",
       "#sk-container-id-1 div.sk-label label {\n",
       "  font-family: monospace;\n",
       "  font-weight: bold;\n",
       "  display: inline-block;\n",
       "  line-height: 1.2em;\n",
       "}\n",
       "\n",
       "#sk-container-id-1 div.sk-label-container {\n",
       "  text-align: center;\n",
       "}\n",
       "\n",
       "/* Estimator-specific */\n",
       "#sk-container-id-1 div.sk-estimator {\n",
       "  font-family: monospace;\n",
       "  border: 1px dotted var(--sklearn-color-border-box);\n",
       "  border-radius: 0.25em;\n",
       "  box-sizing: border-box;\n",
       "  margin-bottom: 0.5em;\n",
       "  /* unfitted */\n",
       "  background-color: var(--sklearn-color-unfitted-level-0);\n",
       "}\n",
       "\n",
       "#sk-container-id-1 div.sk-estimator.fitted {\n",
       "  /* fitted */\n",
       "  background-color: var(--sklearn-color-fitted-level-0);\n",
       "}\n",
       "\n",
       "/* on hover */\n",
       "#sk-container-id-1 div.sk-estimator:hover {\n",
       "  /* unfitted */\n",
       "  background-color: var(--sklearn-color-unfitted-level-2);\n",
       "}\n",
       "\n",
       "#sk-container-id-1 div.sk-estimator.fitted:hover {\n",
       "  /* fitted */\n",
       "  background-color: var(--sklearn-color-fitted-level-2);\n",
       "}\n",
       "\n",
       "/* Specification for estimator info (e.g. \"i\" and \"?\") */\n",
       "\n",
       "/* Common style for \"i\" and \"?\" */\n",
       "\n",
       ".sk-estimator-doc-link,\n",
       "a:link.sk-estimator-doc-link,\n",
       "a:visited.sk-estimator-doc-link {\n",
       "  float: right;\n",
       "  font-size: smaller;\n",
       "  line-height: 1em;\n",
       "  font-family: monospace;\n",
       "  background-color: var(--sklearn-color-background);\n",
       "  border-radius: 1em;\n",
       "  height: 1em;\n",
       "  width: 1em;\n",
       "  text-decoration: none !important;\n",
       "  margin-left: 1ex;\n",
       "  /* unfitted */\n",
       "  border: var(--sklearn-color-unfitted-level-1) 1pt solid;\n",
       "  color: var(--sklearn-color-unfitted-level-1);\n",
       "}\n",
       "\n",
       ".sk-estimator-doc-link.fitted,\n",
       "a:link.sk-estimator-doc-link.fitted,\n",
       "a:visited.sk-estimator-doc-link.fitted {\n",
       "  /* fitted */\n",
       "  border: var(--sklearn-color-fitted-level-1) 1pt solid;\n",
       "  color: var(--sklearn-color-fitted-level-1);\n",
       "}\n",
       "\n",
       "/* On hover */\n",
       "div.sk-estimator:hover .sk-estimator-doc-link:hover,\n",
       ".sk-estimator-doc-link:hover,\n",
       "div.sk-label-container:hover .sk-estimator-doc-link:hover,\n",
       ".sk-estimator-doc-link:hover {\n",
       "  /* unfitted */\n",
       "  background-color: var(--sklearn-color-unfitted-level-3);\n",
       "  color: var(--sklearn-color-background);\n",
       "  text-decoration: none;\n",
       "}\n",
       "\n",
       "div.sk-estimator.fitted:hover .sk-estimator-doc-link.fitted:hover,\n",
       ".sk-estimator-doc-link.fitted:hover,\n",
       "div.sk-label-container:hover .sk-estimator-doc-link.fitted:hover,\n",
       ".sk-estimator-doc-link.fitted:hover {\n",
       "  /* fitted */\n",
       "  background-color: var(--sklearn-color-fitted-level-3);\n",
       "  color: var(--sklearn-color-background);\n",
       "  text-decoration: none;\n",
       "}\n",
       "\n",
       "/* Span, style for the box shown on hovering the info icon */\n",
       ".sk-estimator-doc-link span {\n",
       "  display: none;\n",
       "  z-index: 9999;\n",
       "  position: relative;\n",
       "  font-weight: normal;\n",
       "  right: .2ex;\n",
       "  padding: .5ex;\n",
       "  margin: .5ex;\n",
       "  width: min-content;\n",
       "  min-width: 20ex;\n",
       "  max-width: 50ex;\n",
       "  color: var(--sklearn-color-text);\n",
       "  box-shadow: 2pt 2pt 4pt #999;\n",
       "  /* unfitted */\n",
       "  background: var(--sklearn-color-unfitted-level-0);\n",
       "  border: .5pt solid var(--sklearn-color-unfitted-level-3);\n",
       "}\n",
       "\n",
       ".sk-estimator-doc-link.fitted span {\n",
       "  /* fitted */\n",
       "  background: var(--sklearn-color-fitted-level-0);\n",
       "  border: var(--sklearn-color-fitted-level-3);\n",
       "}\n",
       "\n",
       ".sk-estimator-doc-link:hover span {\n",
       "  display: block;\n",
       "}\n",
       "\n",
       "/* \"?\"-specific style due to the `<a>` HTML tag */\n",
       "\n",
       "#sk-container-id-1 a.estimator_doc_link {\n",
       "  float: right;\n",
       "  font-size: 1rem;\n",
       "  line-height: 1em;\n",
       "  font-family: monospace;\n",
       "  background-color: var(--sklearn-color-background);\n",
       "  border-radius: 1rem;\n",
       "  height: 1rem;\n",
       "  width: 1rem;\n",
       "  text-decoration: none;\n",
       "  /* unfitted */\n",
       "  color: var(--sklearn-color-unfitted-level-1);\n",
       "  border: var(--sklearn-color-unfitted-level-1) 1pt solid;\n",
       "}\n",
       "\n",
       "#sk-container-id-1 a.estimator_doc_link.fitted {\n",
       "  /* fitted */\n",
       "  border: var(--sklearn-color-fitted-level-1) 1pt solid;\n",
       "  color: var(--sklearn-color-fitted-level-1);\n",
       "}\n",
       "\n",
       "/* On hover */\n",
       "#sk-container-id-1 a.estimator_doc_link:hover {\n",
       "  /* unfitted */\n",
       "  background-color: var(--sklearn-color-unfitted-level-3);\n",
       "  color: var(--sklearn-color-background);\n",
       "  text-decoration: none;\n",
       "}\n",
       "\n",
       "#sk-container-id-1 a.estimator_doc_link.fitted:hover {\n",
       "  /* fitted */\n",
       "  background-color: var(--sklearn-color-fitted-level-3);\n",
       "}\n",
       "</style><div id=\"sk-container-id-1\" class=\"sk-top-container\"><div class=\"sk-text-repr-fallback\"><pre>KMeans(n_clusters=3, random_state=42)</pre><b>In a Jupyter environment, please rerun this cell to show the HTML representation or trust the notebook. <br />On GitHub, the HTML representation is unable to render, please try loading this page with nbviewer.org.</b></div><div class=\"sk-container\" hidden><div class=\"sk-item\"><div class=\"sk-estimator fitted sk-toggleable\"><input class=\"sk-toggleable__control sk-hidden--visually\" id=\"sk-estimator-id-1\" type=\"checkbox\" checked><label for=\"sk-estimator-id-1\" class=\"sk-toggleable__label fitted sk-toggleable__label-arrow fitted\">&nbsp;&nbsp;KMeans<a class=\"sk-estimator-doc-link fitted\" rel=\"noreferrer\" target=\"_blank\" href=\"https://scikit-learn.org/1.4/modules/generated/sklearn.cluster.KMeans.html\">?<span>Documentation for KMeans</span></a><span class=\"sk-estimator-doc-link fitted\">i<span>Fitted</span></span></label><div class=\"sk-toggleable__content fitted\"><pre>KMeans(n_clusters=3, random_state=42)</pre></div> </div></div></div></div>"
      ],
      "text/plain": [
       "KMeans(n_clusters=3, random_state=42)"
      ]
     },
     "execution_count": 106,
     "metadata": {},
     "output_type": "execute_result"
    }
   ],
   "source": [
    "# Initialise the model with K as 3\n",
    "from sklearn.cluster import KMeans\n",
    "model = KMeans(n_clusters=3, random_state=42)\n",
    "\n",
    "#Training the model\n",
    "model.fit(X)"
   ]
  },
  {
   "cell_type": "code",
   "execution_count": 108,
   "id": "d77cf9dd-c894-40ce-aafc-77a101d5083f",
   "metadata": {},
   "outputs": [
    {
     "data": {
      "text/html": [
       "<div>\n",
       "<style scoped>\n",
       "    .dataframe tbody tr th:only-of-type {\n",
       "        vertical-align: middle;\n",
       "    }\n",
       "\n",
       "    .dataframe tbody tr th {\n",
       "        vertical-align: top;\n",
       "    }\n",
       "\n",
       "    .dataframe thead th {\n",
       "        text-align: right;\n",
       "    }\n",
       "</style>\n",
       "<table border=\"1\" class=\"dataframe\">\n",
       "  <thead>\n",
       "    <tr style=\"text-align: right;\">\n",
       "      <th></th>\n",
       "      <th>country</th>\n",
       "      <th>fy2017</th>\n",
       "      <th>fy2019</th>\n",
       "      <th>fy2018</th>\n",
       "    </tr>\n",
       "  </thead>\n",
       "  <tbody>\n",
       "    <tr>\n",
       "      <th>0</th>\n",
       "      <td>AFG</td>\n",
       "      <td>33.70269</td>\n",
       "      <td>34.53602</td>\n",
       "      <td>34.53602</td>\n",
       "    </tr>\n",
       "    <tr>\n",
       "      <th>1</th>\n",
       "      <td>AGO</td>\n",
       "      <td>64.57157</td>\n",
       "      <td>65.32993</td>\n",
       "      <td>64.99177</td>\n",
       "    </tr>\n",
       "    <tr>\n",
       "      <th>2</th>\n",
       "      <td>ALB</td>\n",
       "      <td>52.60171</td>\n",
       "      <td>52.67715</td>\n",
       "      <td>52.64734</td>\n",
       "    </tr>\n",
       "    <tr>\n",
       "      <th>3</th>\n",
       "      <td>ARE</td>\n",
       "      <td>86.51006</td>\n",
       "      <td>89.75407</td>\n",
       "      <td>86.52729</td>\n",
       "    </tr>\n",
       "    <tr>\n",
       "      <th>4</th>\n",
       "      <td>ARG</td>\n",
       "      <td>48.96341</td>\n",
       "      <td>56.44015</td>\n",
       "      <td>49.26822</td>\n",
       "    </tr>\n",
       "  </tbody>\n",
       "</table>\n",
       "</div>"
      ],
      "text/plain": [
       "  country    fy2017    fy2019    fy2018\n",
       "0     AFG  33.70269  34.53602  34.53602\n",
       "1     AGO  64.57157  65.32993  64.99177\n",
       "2     ALB  52.60171  52.67715  52.64734\n",
       "3     ARE  86.51006  89.75407  86.52729\n",
       "4     ARG  48.96341  56.44015  49.26822"
      ]
     },
     "execution_count": 108,
     "metadata": {},
     "output_type": "execute_result"
    }
   ],
   "source": [
    "df.head()"
   ]
  },
  {
   "cell_type": "code",
   "execution_count": 110,
   "id": "440ee99b-b0a9-4068-ad65-197782a74bd5",
   "metadata": {},
   "outputs": [
    {
     "data": {
      "text/plain": [
       "array([0, 1, 0, 2, 0, 1, 1, 2, 2, 1, 0, 2, 1, 1, 1, 2, 2, 1, 0, 1, 1, 1,\n",
       "       0, 0, 1, 1, 2, 0, 1, 1, 2, 1, 0, 0, 0, 1, 1, 1, 2, 1, 1, 0, 2, 1,\n",
       "       1, 2, 1, 1, 1, 1, 1, 1, 2, 0, 2, 1, 2, 1, 0, 2, 2, 1, 1, 0, 0, 0,\n",
       "       1, 1, 1, 0, 2, 0, 0, 0, 1, 1, 1, 2, 1, 1, 1, 2, 1, 1, 1, 2, 2, 1,\n",
       "       1, 0, 0, 1, 2, 1, 1, 0, 1, 1, 2, 2, 1, 0, 2, 2, 1, 2, 0, 0, 1, 1,\n",
       "       1, 2, 1, 1, 1, 2, 2, 1, 1, 2, 1, 2, 1, 0, 1, 0, 1, 2, 1, 2, 2, 0,\n",
       "       1, 1, 1, 1, 1, 2, 1, 1, 1, 0, 2, 0, 2, 1, 2, 1, 1, 2, 0, 0, 0, 1,\n",
       "       1, 2, 0, 1, 1, 0, 1, 2, 1, 1, 1, 0, 0, 1, 1, 0, 1, 1, 2, 1, 2, 0,\n",
       "       1, 2, 0, 2, 1, 2, 0, 2, 0, 1, 0, 1, 1, 1, 0], dtype=int32)"
      ]
     },
     "execution_count": 110,
     "metadata": {},
     "output_type": "execute_result"
    }
   ],
   "source": [
    "label=model.labels_\n",
    "label"
   ]
  },
  {
   "cell_type": "code",
   "execution_count": 112,
   "id": "2dac7ff6-366e-4ea3-9324-22fc39ec79b6",
   "metadata": {},
   "outputs": [
    {
     "data": {
      "text/plain": [
       "array([[49.96554565, 52.75806152, 51.35399022],\n",
       "       [66.2249167 , 68.61432   , 67.5216501 ],\n",
       "       [79.16893125, 80.77548667, 79.95782438]])"
      ]
     },
     "execution_count": 112,
     "metadata": {},
     "output_type": "execute_result"
    }
   ],
   "source": [
    "model.cluster_centers_"
   ]
  },
  {
   "cell_type": "markdown",
   "id": "c9b774d6",
   "metadata": {},
   "source": [
    "### Insight: Importing necessary libraries to handle data manipulation, visualization, and clustering."
   ]
  },
  {
   "cell_type": "code",
   "execution_count": 114,
   "id": "59d1fbee-97e2-46de-87d6-753414510f8e",
   "metadata": {},
   "outputs": [
    {
     "data": {
      "text/plain": [
       "Counter({1: 97, 2: 48, 0: 46})"
      ]
     },
     "execution_count": 114,
     "metadata": {},
     "output_type": "execute_result"
    }
   ],
   "source": [
    "from collections import Counter\n",
    "Counter(label)"
   ]
  },
  {
   "cell_type": "code",
   "execution_count": 116,
   "id": "50bb6464-e93f-4c5e-bc3a-51f71097f679",
   "metadata": {},
   "outputs": [
    {
     "data": {
      "text/html": [
       "<div>\n",
       "<style scoped>\n",
       "    .dataframe tbody tr th:only-of-type {\n",
       "        vertical-align: middle;\n",
       "    }\n",
       "\n",
       "    .dataframe tbody tr th {\n",
       "        vertical-align: top;\n",
       "    }\n",
       "\n",
       "    .dataframe thead th {\n",
       "        text-align: right;\n",
       "    }\n",
       "</style>\n",
       "<table border=\"1\" class=\"dataframe\">\n",
       "  <thead>\n",
       "    <tr style=\"text-align: right;\">\n",
       "      <th></th>\n",
       "      <th>country</th>\n",
       "      <th>fy2017</th>\n",
       "      <th>fy2019</th>\n",
       "      <th>fy2018</th>\n",
       "    </tr>\n",
       "  </thead>\n",
       "  <tbody>\n",
       "    <tr>\n",
       "      <th>0</th>\n",
       "      <td>AFG</td>\n",
       "      <td>33.70269</td>\n",
       "      <td>34.53602</td>\n",
       "      <td>34.53602</td>\n",
       "    </tr>\n",
       "    <tr>\n",
       "      <th>1</th>\n",
       "      <td>AGO</td>\n",
       "      <td>64.57157</td>\n",
       "      <td>65.32993</td>\n",
       "      <td>64.99177</td>\n",
       "    </tr>\n",
       "    <tr>\n",
       "      <th>2</th>\n",
       "      <td>ALB</td>\n",
       "      <td>52.60171</td>\n",
       "      <td>52.67715</td>\n",
       "      <td>52.64734</td>\n",
       "    </tr>\n",
       "    <tr>\n",
       "      <th>3</th>\n",
       "      <td>ARE</td>\n",
       "      <td>86.51006</td>\n",
       "      <td>89.75407</td>\n",
       "      <td>86.52729</td>\n",
       "    </tr>\n",
       "    <tr>\n",
       "      <th>4</th>\n",
       "      <td>ARG</td>\n",
       "      <td>48.96341</td>\n",
       "      <td>56.44015</td>\n",
       "      <td>49.26822</td>\n",
       "    </tr>\n",
       "  </tbody>\n",
       "</table>\n",
       "</div>"
      ],
      "text/plain": [
       "  country    fy2017    fy2019    fy2018\n",
       "0     AFG  33.70269  34.53602  34.53602\n",
       "1     AGO  64.57157  65.32993  64.99177\n",
       "2     ALB  52.60171  52.67715  52.64734\n",
       "3     ARE  86.51006  89.75407  86.52729\n",
       "4     ARG  48.96341  56.44015  49.26822"
      ]
     },
     "execution_count": 116,
     "metadata": {},
     "output_type": "execute_result"
    }
   ],
   "source": [
    "df.head()"
   ]
  },
  {
   "cell_type": "markdown",
   "id": "53e107a3",
   "metadata": {},
   "source": [
    "### Insight: Visualizing clusters helps interpret how well-separated the clusters are in feature space."
   ]
  },
  {
   "cell_type": "code",
   "execution_count": 120,
   "id": "57cd01ee-a77b-4c0d-abf1-1928f036de2c",
   "metadata": {},
   "outputs": [
    {
     "data": {
      "image/png": "[encoded data removed]",
      "text/plain": [
       "<Figure size 300x300 with 1 Axes>"
      ]
     },
     "metadata": {},
     "output_type": "display_data"
    }
   ],
   "source": [
    "# visualize the clusters formed by the model(Not required in main impelemntation)\n",
    "plt.figure(figsize=(3,3))\n",
    "#plt.figure()\n",
    "plt.scatter(X.fy2017,X.fy2019,color=color_scheme[model.labels_]);"
   ]
  },
  {
   "cell_type": "markdown",
   "id": "dbabc32a",
   "metadata": {},
   "source": [
    "### Insight: Predicting clusters for each data point helps in segmenting the dataset based on similarity."
   ]
  },
  {
   "cell_type": "code",
   "execution_count": 122,
   "id": "d037074a-81e5-4115-8f34-13f87a040d8f",
   "metadata": {},
   "outputs": [
    {
     "data": {
      "text/plain": [
       "array([0], dtype=int32)"
      ]
     },
     "execution_count": 122,
     "metadata": {},
     "output_type": "execute_result"
    }
   ],
   "source": [
    "new_point=[[15,40,100]] # A new observation\n",
    "model.predict(new_point) # predicted label"
   ]
  },
  {
   "cell_type": "code",
   "execution_count": 124,
   "id": "34fb14d7-89d2-4027-9f1f-d827d42f3a25",
   "metadata": {},
   "outputs": [
    {
     "data": {
      "text/html": [
       "<div>\n",
       "<style scoped>\n",
       "    .dataframe tbody tr th:only-of-type {\n",
       "        vertical-align: middle;\n",
       "    }\n",
       "\n",
       "    .dataframe tbody tr th {\n",
       "        vertical-align: top;\n",
       "    }\n",
       "\n",
       "    .dataframe thead th {\n",
       "        text-align: right;\n",
       "    }\n",
       "</style>\n",
       "<table border=\"1\" class=\"dataframe\">\n",
       "  <thead>\n",
       "    <tr style=\"text-align: right;\">\n",
       "      <th></th>\n",
       "      <th>country</th>\n",
       "      <th>fy2017</th>\n",
       "      <th>fy2019</th>\n",
       "      <th>fy2018</th>\n",
       "      <th>Labels</th>\n",
       "    </tr>\n",
       "  </thead>\n",
       "  <tbody>\n",
       "    <tr>\n",
       "      <th>0</th>\n",
       "      <td>AFG</td>\n",
       "      <td>33.70269</td>\n",
       "      <td>34.53602</td>\n",
       "      <td>34.53602</td>\n",
       "      <td>0</td>\n",
       "    </tr>\n",
       "    <tr>\n",
       "      <th>1</th>\n",
       "      <td>AGO</td>\n",
       "      <td>64.57157</td>\n",
       "      <td>65.32993</td>\n",
       "      <td>64.99177</td>\n",
       "      <td>1</td>\n",
       "    </tr>\n",
       "    <tr>\n",
       "      <th>2</th>\n",
       "      <td>ALB</td>\n",
       "      <td>52.60171</td>\n",
       "      <td>52.67715</td>\n",
       "      <td>52.64734</td>\n",
       "      <td>0</td>\n",
       "    </tr>\n",
       "    <tr>\n",
       "      <th>3</th>\n",
       "      <td>ARE</td>\n",
       "      <td>86.51006</td>\n",
       "      <td>89.75407</td>\n",
       "      <td>86.52729</td>\n",
       "      <td>2</td>\n",
       "    </tr>\n",
       "    <tr>\n",
       "      <th>4</th>\n",
       "      <td>ARG</td>\n",
       "      <td>48.96341</td>\n",
       "      <td>56.44015</td>\n",
       "      <td>49.26822</td>\n",
       "      <td>0</td>\n",
       "    </tr>\n",
       "    <tr>\n",
       "      <th>...</th>\n",
       "      <td>...</td>\n",
       "      <td>...</td>\n",
       "      <td>...</td>\n",
       "      <td>...</td>\n",
       "      <td>...</td>\n",
       "    </tr>\n",
       "    <tr>\n",
       "      <th>186</th>\n",
       "      <td>XKX</td>\n",
       "      <td>50.29844</td>\n",
       "      <td>55.28702</td>\n",
       "      <td>52.87432</td>\n",
       "      <td>0</td>\n",
       "    </tr>\n",
       "    <tr>\n",
       "      <th>187</th>\n",
       "      <td>YEM</td>\n",
       "      <td>66.69420</td>\n",
       "      <td>68.68324</td>\n",
       "      <td>67.94367</td>\n",
       "      <td>1</td>\n",
       "    </tr>\n",
       "    <tr>\n",
       "      <th>188</th>\n",
       "      <td>ZAF</td>\n",
       "      <td>68.26741</td>\n",
       "      <td>68.32331</td>\n",
       "      <td>68.24925</td>\n",
       "      <td>1</td>\n",
       "    </tr>\n",
       "    <tr>\n",
       "      <th>189</th>\n",
       "      <td>ZMB</td>\n",
       "      <td>71.10859</td>\n",
       "      <td>72.09460</td>\n",
       "      <td>71.72488</td>\n",
       "      <td>1</td>\n",
       "    </tr>\n",
       "    <tr>\n",
       "      <th>190</th>\n",
       "      <td>ZWE</td>\n",
       "      <td>46.39289</td>\n",
       "      <td>60.00173</td>\n",
       "      <td>48.55427</td>\n",
       "      <td>0</td>\n",
       "    </tr>\n",
       "  </tbody>\n",
       "</table>\n",
       "<p>191 rows × 5 columns</p>\n",
       "</div>"
      ],
      "text/plain": [
       "    country    fy2017    fy2019    fy2018  Labels\n",
       "0       AFG  33.70269  34.53602  34.53602       0\n",
       "1       AGO  64.57157  65.32993  64.99177       1\n",
       "2       ALB  52.60171  52.67715  52.64734       0\n",
       "3       ARE  86.51006  89.75407  86.52729       2\n",
       "4       ARG  48.96341  56.44015  49.26822       0\n",
       "..      ...       ...       ...       ...     ...\n",
       "186     XKX  50.29844  55.28702  52.87432       0\n",
       "187     YEM  66.69420  68.68324  67.94367       1\n",
       "188     ZAF  68.26741  68.32331  68.24925       1\n",
       "189     ZMB  71.10859  72.09460  71.72488       1\n",
       "190     ZWE  46.39289  60.00173  48.55427       0\n",
       "\n",
       "[191 rows x 5 columns]"
      ]
     },
     "execution_count": 124,
     "metadata": {},
     "output_type": "execute_result"
    }
   ],
   "source": [
    "df['Labels']=label\n",
    "df"
   ]
  },
  {
   "cell_type": "code",
   "execution_count": 126,
   "id": "dbc8ee10-ebfc-452a-9f94-88db986c35a6",
   "metadata": {},
   "outputs": [],
   "source": [
    "## Label 0"
   ]
  },
  {
   "cell_type": "code",
   "execution_count": 128,
   "id": "de7327c3-03e4-4481-abda-473cb9e38758",
   "metadata": {},
   "outputs": [
    {
     "data": {
      "text/plain": [
       "(51.3539902173913, 49.965545652173915, 52.75806152173913)"
      ]
     },
     "execution_count": 128,
     "metadata": {},
     "output_type": "execute_result"
    }
   ],
   "source": [
    "(df.loc[df['Labels']==0].iloc[:,3].mean(),\n",
    " df.loc[df['Labels']==0].iloc[:,1].mean(),\n",
    " df.loc[df['Labels']==0].iloc[:,2].mean())"
   ]
  },
  {
   "cell_type": "code",
   "execution_count": 130,
   "id": "49dc07e3-8fba-49c4-8983-b1931142f0ca",
   "metadata": {},
   "outputs": [],
   "source": [
    "## Label 1"
   ]
  },
  {
   "cell_type": "code",
   "execution_count": 132,
   "id": "6dbebf5f-75c8-4615-b27f-e73ab31368c0",
   "metadata": {},
   "outputs": [
    {
     "data": {
      "text/plain": [
       "(67.52165010309278, 66.22491670103092, 68.61432)"
      ]
     },
     "execution_count": 132,
     "metadata": {},
     "output_type": "execute_result"
    }
   ],
   "source": [
    "(df.loc[df['Labels']==1].iloc[:,3].mean(),\n",
    " df.loc[df['Labels']==1].iloc[:,1].mean(),\n",
    " df.loc[df['Labels']==1].iloc[:,2].mean())"
   ]
  },
  {
   "cell_type": "code",
   "execution_count": 134,
   "id": "a31d8728-53db-4a9f-bb52-59eb0ef28dd8",
   "metadata": {},
   "outputs": [],
   "source": [
    "## Label 2"
   ]
  },
  {
   "cell_type": "code",
   "execution_count": 136,
   "id": "417d1425-fe44-4acf-98e0-50ee5c5b45f8",
   "metadata": {},
   "outputs": [
    {
     "data": {
      "text/plain": [
       "(79.95782437500002, 79.16893125, 80.77548666666667)"
      ]
     },
     "execution_count": 136,
     "metadata": {},
     "output_type": "execute_result"
    }
   ],
   "source": [
    "(df.loc[df['Labels']==2].iloc[:,3].mean(),\n",
    " df.loc[df['Labels']==2].iloc[:,1].mean(),\n",
    " df.loc[df['Labels']==2].iloc[:,2].mean())"
   ]
  },
  {
   "cell_type": "code",
   "execution_count": null,
   "id": "99b1f71b-8e16-4e45-814d-ab7649787245",
   "metadata": {},
   "outputs": [],
   "source": [
    "# From the above means of performance indices, we can see that the model clustered countries according to ease of dealing with construction permits:\n",
    "\n",
    "# Label 1: Countries with least performance\n",
    "# Label 0: Countries with the highest performance\n",
    "# Label 2: Countries with reasonably good performance"
   ]
  },
  {
   "cell_type": "markdown",
   "id": "eba3ce18",
   "metadata": {},
   "source": [
    "### Insight: Loading the dataset. It's important to understand the structure of the data before applying clustering."
   ]
  },
  {
   "cell_type": "code",
   "execution_count": 138,
   "id": "baa7e724-1992-4058-8231-dd529f16b0d9",
   "metadata": {},
   "outputs": [
    {
     "data": {
      "text/html": [
       "<div>\n",
       "<style scoped>\n",
       "    .dataframe tbody tr th:only-of-type {\n",
       "        vertical-align: middle;\n",
       "    }\n",
       "\n",
       "    .dataframe tbody tr th {\n",
       "        vertical-align: top;\n",
       "    }\n",
       "\n",
       "    .dataframe thead th {\n",
       "        text-align: right;\n",
       "    }\n",
       "</style>\n",
       "<table border=\"1\" class=\"dataframe\">\n",
       "  <thead>\n",
       "    <tr style=\"text-align: right;\">\n",
       "      <th></th>\n",
       "      <th>country</th>\n",
       "      <th>fy2017</th>\n",
       "      <th>fy2019</th>\n",
       "      <th>fy2018</th>\n",
       "      <th>Labels</th>\n",
       "    </tr>\n",
       "  </thead>\n",
       "  <tbody>\n",
       "    <tr>\n",
       "      <th>0</th>\n",
       "      <td>AFG</td>\n",
       "      <td>33.70269</td>\n",
       "      <td>34.53602</td>\n",
       "      <td>34.53602</td>\n",
       "      <td>0</td>\n",
       "    </tr>\n",
       "    <tr>\n",
       "      <th>1</th>\n",
       "      <td>AGO</td>\n",
       "      <td>64.57157</td>\n",
       "      <td>65.32993</td>\n",
       "      <td>64.99177</td>\n",
       "      <td>1</td>\n",
       "    </tr>\n",
       "    <tr>\n",
       "      <th>2</th>\n",
       "      <td>ALB</td>\n",
       "      <td>52.60171</td>\n",
       "      <td>52.67715</td>\n",
       "      <td>52.64734</td>\n",
       "      <td>0</td>\n",
       "    </tr>\n",
       "    <tr>\n",
       "      <th>3</th>\n",
       "      <td>ARE</td>\n",
       "      <td>86.51006</td>\n",
       "      <td>89.75407</td>\n",
       "      <td>86.52729</td>\n",
       "      <td>2</td>\n",
       "    </tr>\n",
       "    <tr>\n",
       "      <th>4</th>\n",
       "      <td>ARG</td>\n",
       "      <td>48.96341</td>\n",
       "      <td>56.44015</td>\n",
       "      <td>49.26822</td>\n",
       "      <td>0</td>\n",
       "    </tr>\n",
       "  </tbody>\n",
       "</table>\n",
       "</div>"
      ],
      "text/plain": [
       "  country    fy2017    fy2019    fy2018  Labels\n",
       "0     AFG  33.70269  34.53602  34.53602       0\n",
       "1     AGO  64.57157  65.32993  64.99177       1\n",
       "2     ALB  52.60171  52.67715  52.64734       0\n",
       "3     ARE  86.51006  89.75407  86.52729       2\n",
       "4     ARG  48.96341  56.44015  49.26822       0"
      ]
     },
     "execution_count": 138,
     "metadata": {},
     "output_type": "execute_result"
    }
   ],
   "source": [
    "df0=pd.read_csv(\"main_data.csv\") # original with country codes\n",
    "df['country']=df0['country']\n",
    "df.head()"
   ]
  },
  {
   "cell_type": "code",
   "execution_count": 140,
   "id": "a36dfa61-520f-45be-89a7-ba868bc661f4",
   "metadata": {},
   "outputs": [
    {
     "data": {
      "text/plain": [
       "array([0, 1, 0, 2, 0, 1, 1, 2, 2, 1, 0, 2, 1, 1, 1, 2, 2, 1, 0, 1, 1, 1,\n",
       "       0, 0, 1, 1, 2, 0, 1, 1, 2, 1, 0, 0, 0, 1, 1, 1, 2, 1, 1, 0, 2, 1,\n",
       "       1, 2, 1, 1, 1, 1, 1, 1, 2, 0, 2, 1, 2, 1, 0, 2, 2, 1, 1, 0, 0, 0,\n",
       "       1, 1, 1, 0, 2, 0, 0, 0, 1, 1, 1, 2, 1, 1, 1, 2, 1, 1, 1, 2, 2, 1,\n",
       "       1, 0, 0, 1, 2, 1, 1, 0, 1, 1, 2, 2, 1, 0, 2, 2, 1, 2, 0, 0, 1, 1,\n",
       "       1, 2, 1, 1, 1, 2, 2, 1, 1, 2, 1, 2, 1, 0, 1, 0, 1, 2, 1, 2, 2, 0,\n",
       "       1, 1, 1, 1, 1, 2, 1, 1, 1, 0, 2, 0, 2, 1, 2, 1, 1, 2, 0, 0, 0, 1,\n",
       "       1, 2, 0, 1, 1, 0, 1, 2, 1, 1, 1, 0, 0, 1, 1, 0, 1, 1, 2, 1, 2, 0,\n",
       "       1, 2, 0, 2, 1, 2, 0, 2, 0, 1, 0, 1, 1, 1, 0], dtype=int32)"
      ]
     },
     "execution_count": 140,
     "metadata": {},
     "output_type": "execute_result"
    }
   ],
   "source": [
    "label"
   ]
  },
  {
   "cell_type": "code",
   "execution_count": 142,
   "id": "52039851-c46f-45a7-b6be-99263ff519ff",
   "metadata": {},
   "outputs": [
    {
     "data": {
      "text/html": [
       "<div>\n",
       "<style scoped>\n",
       "    .dataframe tbody tr th:only-of-type {\n",
       "        vertical-align: middle;\n",
       "    }\n",
       "\n",
       "    .dataframe tbody tr th {\n",
       "        vertical-align: top;\n",
       "    }\n",
       "\n",
       "    .dataframe thead th {\n",
       "        text-align: right;\n",
       "    }\n",
       "</style>\n",
       "<table border=\"1\" class=\"dataframe\">\n",
       "  <thead>\n",
       "    <tr style=\"text-align: right;\">\n",
       "      <th></th>\n",
       "      <th>country</th>\n",
       "      <th>fy2017</th>\n",
       "      <th>fy2019</th>\n",
       "      <th>fy2018</th>\n",
       "      <th>Labels</th>\n",
       "    </tr>\n",
       "  </thead>\n",
       "  <tbody>\n",
       "    <tr>\n",
       "      <th>0</th>\n",
       "      <td>AFG</td>\n",
       "      <td>33.70269</td>\n",
       "      <td>34.53602</td>\n",
       "      <td>34.53602</td>\n",
       "      <td>0</td>\n",
       "    </tr>\n",
       "    <tr>\n",
       "      <th>1</th>\n",
       "      <td>AGO</td>\n",
       "      <td>64.57157</td>\n",
       "      <td>65.32993</td>\n",
       "      <td>64.99177</td>\n",
       "      <td>1</td>\n",
       "    </tr>\n",
       "    <tr>\n",
       "      <th>2</th>\n",
       "      <td>ALB</td>\n",
       "      <td>52.60171</td>\n",
       "      <td>52.67715</td>\n",
       "      <td>52.64734</td>\n",
       "      <td>0</td>\n",
       "    </tr>\n",
       "    <tr>\n",
       "      <th>3</th>\n",
       "      <td>ARE</td>\n",
       "      <td>86.51006</td>\n",
       "      <td>89.75407</td>\n",
       "      <td>86.52729</td>\n",
       "      <td>2</td>\n",
       "    </tr>\n",
       "    <tr>\n",
       "      <th>4</th>\n",
       "      <td>ARG</td>\n",
       "      <td>48.96341</td>\n",
       "      <td>56.44015</td>\n",
       "      <td>49.26822</td>\n",
       "      <td>0</td>\n",
       "    </tr>\n",
       "  </tbody>\n",
       "</table>\n",
       "</div>"
      ],
      "text/plain": [
       "  country    fy2017    fy2019    fy2018  Labels\n",
       "0     AFG  33.70269  34.53602  34.53602       0\n",
       "1     AGO  64.57157  65.32993  64.99177       1\n",
       "2     ALB  52.60171  52.67715  52.64734       0\n",
       "3     ARE  86.51006  89.75407  86.52729       2\n",
       "4     ARG  48.96341  56.44015  49.26822       0"
      ]
     },
     "execution_count": 142,
     "metadata": {},
     "output_type": "execute_result"
    }
   ],
   "source": [
    "df.head()"
   ]
  },
  {
   "cell_type": "code",
   "execution_count": 144,
   "id": "90d6540b-3695-4aff-a243-ea77a6b22cb3",
   "metadata": {},
   "outputs": [
    {
     "data": {
      "text/plain": [
       "array([0, 1, 0, 2, 0, 1, 1, 2, 2, 1, 0, 2, 1, 1, 1, 2, 2, 1, 0, 1, 1, 1,\n",
       "       0, 0, 1, 1, 2, 0, 1, 1, 2, 1, 0, 0, 0, 1, 1, 1, 2, 1, 1, 0, 2, 1,\n",
       "       1, 2, 1, 1, 1, 1, 1, 1, 2, 0, 2, 1, 2, 1, 0, 2, 2, 1, 1, 0, 0, 0,\n",
       "       1, 1, 1, 0, 2, 0, 0, 0, 1, 1, 1, 2, 1, 1, 1, 2, 1, 1, 1, 2, 2, 1,\n",
       "       1, 0, 0, 1, 2, 1, 1, 0, 1, 1, 2, 2, 1, 0, 2, 2, 1, 2, 0, 0, 1, 1,\n",
       "       1, 2, 1, 1, 1, 2, 2, 1, 1, 2, 1, 2, 1, 0, 1, 0, 1, 2, 1, 2, 2, 0,\n",
       "       1, 1, 1, 1, 1, 2, 1, 1, 1, 0, 2, 0, 2, 1, 2, 1, 1, 2, 0, 0, 0, 1,\n",
       "       1, 2, 0, 1, 1, 0, 1, 2, 1, 1, 1, 0, 0, 1, 1, 0, 1, 1, 2, 1, 2, 0,\n",
       "       1, 2, 0, 2, 1, 2, 0, 2, 0, 1, 0, 1, 1, 1, 0], dtype=int32)"
      ]
     },
     "execution_count": 144,
     "metadata": {},
     "output_type": "execute_result"
    }
   ],
   "source": [
    "label"
   ]
  },
  {
   "cell_type": "code",
   "execution_count": 146,
   "id": "731a26a5-b7cf-42b0-b957-d335c670eeca",
   "metadata": {},
   "outputs": [],
   "source": [
    "least=[]\n",
    "moderate=[]\n",
    "highest=[]\n",
    "\n",
    "for i in range(len(df)):\n",
    "    if label[i]==0:\n",
    "        highest.append(df['country'][i])\n",
    "    elif label[i]==1:\n",
    "        least.append(df['country'][i])\n",
    "    else:\n",
    "        moderate.append(df['country'][i])"
   ]
  },
  {
   "cell_type": "code",
   "execution_count": 148,
   "id": "6cdb47a1-8642-46c5-ad06-7f53efd4a049",
   "metadata": {},
   "outputs": [
    {
     "name": "stdout",
     "output_type": "stream",
     "text": [
      "Countries with least regulatory performance: \n",
      " ['AGO', 'ARM', 'ATG', 'AZE', 'BEN', 'BFA', 'BGD', 'BHS', 'BLR', 'BLZ', 'BOL', 'BRN', 'BTN', 'CAN', 'CHE', 'CHN', 'COG', 'COL', 'COM', 'CRI', 'CYP', 'DJI', 'DMA', 'DOM', 'DZA', 'ECU', 'EGY', 'ERI', 'ESP', 'FJI', 'FSM', 'GHA', 'GIN', 'GRC', 'GRD', 'GTM', 'HUN', 'IDN', 'IND', 'IRN', 'IRQ', 'ISL', 'ITA', 'JAM', 'JOR', 'KEN', 'KGZ', 'KNA', 'KWT', 'LAO', 'LBR', 'LBY', 'LKA', 'LVA', 'MDV', 'MEX', 'MHL', 'MLI', 'MLT', 'MMR', 'MOZ', 'MRT', 'MWI', 'NAM', 'NGA', 'NLD', 'NPL', 'PAN', 'PER', 'PHL', 'PLW', 'PNG', 'PRI', 'PRT', 'PRY', 'RWA', 'SDN', 'SEN', 'SMR', 'SOM', 'STP', 'SUR', 'SVN', 'SWZ', 'SYC', 'SYR', 'THA', 'TJK', 'TON', 'TTO', 'TUR', 'UGA', 'UZB', 'WSM', 'YEM', 'ZAF', 'ZMB']\n"
     ]
    }
   ],
   "source": [
    "print(\"Countries with least regulatory performance: \\n\",least)"
   ]
  },
  {
   "cell_type": "code",
   "execution_count": 150,
   "id": "9a6e1a7f-9afd-4f52-a323-9f4d9e0e3a3f",
   "metadata": {},
   "outputs": [
    {
     "name": "stdout",
     "output_type": "stream",
     "text": [
      "Countries with reasonable regulatory performance: \n",
      " ['ARE', 'AUS', 'AUT', 'BEL', 'BGR', 'BHR', 'BWA', 'CHL', 'CPV', 'DEU', 'DNK', 'EST', 'FIN', 'FRA', 'GBR', 'GEO', 'HKG', 'IRL', 'ISR', 'JPN', 'KAZ', 'KOR', 'LCA', 'LIE', 'LTU', 'LUX', 'MAR', 'MKD', 'MNE', 'MNG', 'MUS', 'MYS', 'NOR', 'NZL', 'OMN', 'POL', 'QAT', 'RUS', 'SAU', 'SGP', 'SRB', 'SWE', 'TUN', 'TWN', 'UKR', 'USA', 'VCT', 'VNM']\n"
     ]
    }
   ],
   "source": [
    "print(\"Countries with reasonable regulatory performance: \\n\",moderate)"
   ]
  },
  {
   "cell_type": "code",
   "execution_count": 152,
   "id": "ed2ea6a0-50fe-4e60-bf80-d211a7f73fda",
   "metadata": {},
   "outputs": [
    {
     "name": "stdout",
     "output_type": "stream",
     "text": [
      "Countries with highest regulatory performance: \n",
      " ['AFG', 'ALB', 'ARG', 'BDI', 'BIH', 'BRA', 'BRB', 'CAF', 'CIV', 'CMR', 'COD', 'CZE', 'ETH', 'GAB', 'GMB', 'GNB', 'GNQ', 'GUY', 'HND', 'HRV', 'HTI', 'KHM', 'KIR', 'LBN', 'LSO', 'MDA', 'MDG', 'NER', 'NIC', 'PAK', 'PSE', 'ROU', 'SLB', 'SLE', 'SLV', 'SSD', 'SVK', 'TCD', 'TGO', 'TLS', 'TZA', 'URY', 'VEN', 'VUT', 'XKX', 'ZWE']\n"
     ]
    }
   ],
   "source": [
    "print(\"Countries with highest regulatory performance: \\n\",highest)"
   ]
  },
  {
   "cell_type": "markdown",
   "id": "b2f03c07",
   "metadata": {},
   "source": [
    "### Insight: Importing necessary libraries to handle data manipulation, visualization, and clustering."
   ]
  },
  {
   "cell_type": "code",
   "execution_count": 154,
   "id": "8e361beb-62c8-4296-b1a6-69cb489017fd",
   "metadata": {},
   "outputs": [
    {
     "data": {
      "text/plain": [
       "0.49612202934048727"
      ]
     },
     "execution_count": 154,
     "metadata": {},
     "output_type": "execute_result"
    }
   ],
   "source": [
    "from sklearn.metrics import silhouette_score\n",
    "score=silhouette_score(X,label)\n",
    "score"
   ]
  },
  {
   "cell_type": "code",
   "execution_count": null,
   "id": "85d7fe5d-7a24-47de-9b98-b4e00e929009",
   "metadata": {},
   "outputs": [],
   "source": []
  }
 ],
 "metadata": {
  "kernelspec": {
   "display_name": "Python 3 (ipykernel)",
   "language": "python",
   "name": "python3"
  },
  "language_info": {
   "codemirror_mode": {
    "name": "ipython",
    "version": 3
   },
   "file_extension": ".py",
   "mimetype": "text/x-python",
   "name": "python",
   "nbconvert_exporter": "python",
   "pygments_lexer": "ipython3",
   "version": "3.12.4"
  }
 },
 "nbformat": 4,
 "nbformat_minor": 5
}
